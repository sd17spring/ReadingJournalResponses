{
 "cells": [
  {
   "cell_type": "markdown",
   "metadata": {
    "is_question": true,
    "problem": "Exercise 15.1"
   },
   "source": [
    "### Chapter 15.2  \n",
    "\n",
    "Write a function called `distance_between_points` that takes two `Points` as arguments and returns the distance between them."
   ]
  },
  {
   "cell_type": "code",
   "execution_count": 10,
   "metadata": {
    "collapsed": false,
    "solution": "Exercise 15.1"
   },
   "outputs": [],
   "source": [
    "from math import sqrt\n",
    "\n",
    "class Point:\n",
    "    \"\"\"Represents a point in 2-D space.\"\"\"\n",
    "\n",
    "p1 = Point()\n",
    "p1.x = 3\n",
    "p1.y = 4\n",
    "\n",
    "p2 = Point()\n",
    "p2.x = 0\n",
    "p2.y = 0\n",
    "\n",
    "def distance_between_points(p1, p2):\n",
    "    x_dis = p1.x - p2.x\n",
    "    y_dis = p1.y - p2.y\n",
    "    distance = sqrt(x_dis**2 + y_dis**2)\n",
    "    print(distance)\n",
    "    \n",
    "distance_between_points(p1, p2)"
   ]
  },
  {
   "cell_type": "code",
   "execution_count": 46,
   "metadata": {
    "collapsed": false,
    "solution": "Exercise 15.1"
   },
   "outputs": [],
   "source": [
    "import math\n",
    "class Point:\n",
    "    \"2D Point\"\n",
    "    def __init__(self, x, y):\n",
    "        self.x = x\n",
    "        self.y = y\n",
    "\n",
    "def distance_between_points(p1, p2):\n",
    "    distance = math.sqrt((p1.x - p2.x)**2 + (p1.y - p2.y)**2)\n",
    "    return distance\n",
    "\n",
    "p1 = Point(2,3)\n",
    "p2 = Point(3,5)\n",
    "\n",
    "distance_between_points(p1,p2)"
   ]
  },
  {
   "cell_type": "code",
   "execution_count": 6,
   "metadata": {
    "collapsed": false,
    "solution": "Exercise 15.1"
   },
   "outputs": [],
   "source": [
    "import math\n",
    "def distance_between_points(p1,p2):\n",
    "    return math.sqrt((p2.x-p1.x)**2 + (p2.y-p1.y)**2)\n",
    "    \n",
    "class Point:\n",
    "    \"\"\" Represents a point in R2 \"\"\"\n",
    "    \n",
    "    def __init__(self,x,y):\n",
    "        self.x = x\n",
    "        self.y = y\n",
    "    \n",
    "    def __str__(self):\n",
    "        return '(%f,%f)' % (self.x, self.y)\n",
    "    \n",
    "p1 = Point(10,15)\n",
    "p2 = Point(7,11)\n",
    "dist = distance_between_points(p1,p2)\n",
    "print('Distance between points %s and %s is %f.' % (p1,p2,dist))"
   ]
  },
  {
   "cell_type": "code",
   "execution_count": 15,
   "metadata": {
    "collapsed": false,
    "solution": "Exercise 15.1"
   },
   "outputs": [],
   "source": [
    "class Point:\n",
    "    \n",
    "    def __init__(self, x=0, y=0):\n",
    "        '''create a new point at x, y'''\n",
    "        self.x = x\n",
    "        self.y = y\n",
    "\n",
    "    def distance_from_origin(self):\n",
    "        '''finds distance of point from origin'''\n",
    "        dist = (self.x**2 + self.y**2)**.5\n",
    "        return dist\n",
    "\n",
    "def distance_between_points(point1, point2):\n",
    "    '''takes argument type Point\n",
    "    \n",
    "    '''\n",
    "    dist_x = point1.x - point2.x\n",
    "    dist_y = point1.y - point2.y\n",
    "    dist = (dist_x**2 + dist_y**2)**.5\n",
    "    return dist\n",
    "\n",
    "p1 = Point(3, 4)\n",
    "p2 = Point(6, 8)\n",
    "\n",
    "distance_between_points(p1, p2)"
   ]
  },
  {
   "cell_type": "markdown",
   "metadata": {
    "is_question": true,
    "problem": "Exercise 15.2"
   },
   "source": [
    "### Chapter 15.5\n",
    "\n",
    "Write a function named `move_rectangle` that takes a `Rectangle` and two numbers named `dx` and `dy`. It should change the location of the rectangle by adding `dx` to the `x` coordinate of `corner` and adding `dy` to the `y` coordinate of `corner`."
   ]
  },
  {
   "cell_type": "code",
   "execution_count": 16,
   "metadata": {
    "collapsed": false,
    "solution": "Exercise 15.2"
   },
   "outputs": [],
   "source": [
    "def move_rectangle(Rectangle, dx, dy):\n",
    "    box.corner.x += dx\n",
    "    box.corner.y += dy\n",
    "    return box.corner.x, box.corner.y\n",
    "\n",
    "move_rectangle(box, 5, 25)\n",
    "\n",
    "#------\n",
    "#Careful, having move_rectangle take in capital Rectangle as an argument implies that it's taking in the\n",
    "#entire class. This function is supposed to take an object instantiated from the Rectangle class"
   ]
  },
  {
   "cell_type": "code",
   "execution_count": 8,
   "metadata": {
    "collapsed": false,
    "solution": "Exercise 15.2"
   },
   "outputs": [],
   "source": [
    "class Rectangle:\n",
    "    \"\"\"\n",
    "    Represents a rectangle in 2-D space\n",
    "    attributes: width, height, corner.\n",
    "    \"\"\"\n",
    "    \n",
    "class Point:\n",
    "    \"\"\"Represents a point in 2-D space.\n",
    "\n",
    "    attributes: x, y\n",
    "    \"\"\"\n",
    "    \n",
    "def move_rectangle(rectangle, dx, dy):\n",
    "    rectangle.corner.x += dx\n",
    "    rectangle.corner.y += dy\n",
    "    return(rectangle)\n",
    "\n",
    "rectangle = Rectangle()\n",
    "rectangle.width = 5\n",
    "rectangle.height = 3\n",
    "rectangle.corner = Point()\n",
    "rectangle.corner.x = 5\n",
    "rectangle.corner.y = 8\n",
    "move_rectangle(rectangle, 40,-4)"
   ]
  },
  {
   "cell_type": "code",
   "execution_count": 11,
   "metadata": {
    "collapsed": false,
    "solution": "Exercise 15.2"
   },
   "outputs": [],
   "source": [
    "class Rect(object):\n",
    "    \"\"\"Defines a rectange with length and width from a corner point\"\"\"\n",
    "    \n",
    "rect1 = Rect()\n",
    "rect1.w = 50\n",
    "rect1.h = 60\n",
    "rect1.c = Point()\n",
    "rect1.c.x = 1.0\n",
    "rect1.c.y = 1.0\n",
    "\n",
    "def move_rectangle(r, dx, dy):\n",
    "    r.c.x += dx\n",
    "    r.c.y += dy\n",
    "    \n",
    "move_rectangle(rect1, 2, 2)\n",
    "print(rect1.c.x)\n",
    "    "
   ]
  },
  {
   "cell_type": "code",
   "execution_count": 24,
   "metadata": {
    "collapsed": false,
    "solution": "Exercise 15.2"
   },
   "outputs": [],
   "source": [
    "class Rectangle:\n",
    "    \"\"\"\n",
    "    Represents the coordinates for a rectangle.\n",
    "    attributes: width, height, corner\n",
    "    \"\"\"\n",
    "    \n",
    "    def move_rectangle(rec, dx, dy):\n",
    "        rec.corner.x += dx\n",
    "        rec.corner.y += dy\n",
    "    \n",
    "box = Rectangle()\n",
    "box.width = 100.0\n",
    "box.height = 200.0\n",
    "box.corner = Point()\n",
    "box.corner.x = 0.0\n",
    "box.corner.y = 0.0\n",
    "\n",
    "print(Rectangle.move_rectangle(box, 1, 1))\n",
    "\n",
    "print('(' + str(box.corner.x) + ', ' + str(box.corner.y) + ')')\n",
    "\n",
    "#----\n",
    "#Nice use of making move_rectangle a method of Rectangle\n",
    "#Remember that class de"
   ]
  },
  {
   "cell_type": "markdown",
   "metadata": {
    "is_question": true,
    "problem": "Exercise 15.3"
   },
   "source": [
    "### Exercise 15.6\n",
    "\n",
    "Write a version of `move_rectangle` that creates and returns a new `Rectangle` instead of modifying the old one."
   ]
  },
  {
   "cell_type": "code",
   "execution_count": 21,
   "metadata": {
    "collapsed": false,
    "solution": "Exercise 15.3"
   },
   "outputs": [],
   "source": [
    "import copy\n",
    "\n",
    "def duplicate_rectangle(Rectangle, dx,dy):\n",
    "    \"\"\"\n",
    "    Copy of Rectangle in a new position\n",
    "        \"\"\"\n",
    "    rec1 = copy.copy(Rectangle)    \n",
    "    move_rectangle(rec1,dx,dy)\n",
    "    return rec1\n",
    "    \n",
    "duplicate_rectangle(Rectangle,0,2)\n",
    "\n",
    "#---\n",
    "#Interesting use of copy"
   ]
  },
  {
   "cell_type": "code",
   "execution_count": 21,
   "metadata": {
    "collapsed": false,
    "solution": "Exercise 15.3"
   },
   "outputs": [],
   "source": [
    "class Rectangle:\n",
    "\n",
    "    \n",
    "class Point:\n",
    "\n",
    "\n",
    "box = Rectangle()\n",
    "box.width = 100.0\n",
    "box.height = 50.0\n",
    "box.corner = Point()\n",
    "box.corner.x = 0.0\n",
    "box.corner.y = 0.0\n",
    "\n",
    "\n",
    "def move_rectangle_new():\n",
    "    box.corner.x +=dx\n",
    "    box.width -=dx\n",
    "    box.corner.y += dy\n",
    "    box.height -= dy\n",
    "    return box.corner.x, box.corner.y, box.width, box.height\n",
    "\n",
    "move_rectangle(box,5,7)\n",
    "\n",
    "#---\n",
    "#This isn't actually returning a new Rectangle object."
   ]
  },
  {
   "cell_type": "code",
   "execution_count": 15,
   "metadata": {
    "collapsed": false,
    "solution": "Exercise 15.3"
   },
   "outputs": [],
   "source": [
    "def new_rectangle(rect,dx,dy):\n",
    "    corner = Point(rect.c.x + dx,rect.c.y + dy)\n",
    "    new_rect = Rectangle(rect.w,rect.h,corner)\n",
    "    return new_rect\n",
    "\n",
    "new_rectangle(rect, 4, 5)\n",
    "\n",
    "#----\n",
    "#Note how this one actually creates a new Rectangle object to be returned as per the prompt"
   ]
  },
  {
   "cell_type": "code",
   "execution_count": 42,
   "metadata": {
    "collapsed": false,
    "solution": "Exercise 15.3"
   },
   "outputs": [],
   "source": [
    "def move_rectangle(R,dx,dy):\n",
    "    newRect = Rectangle(R.p1_rect, R.p2_rect)\n",
    "    newRect.move(dx,dy)\n",
    "    return newRect\n",
    "\n",
    "newRect = move_rectangle(rect, 2,3)\n",
    "newRect.display()"
   ]
  },
  {
   "cell_type": "code",
   "execution_count": null,
   "metadata": {
    "collapsed": true,
    "solution": "Exercise 15.3"
   },
   "outputs": [],
   "source": [
    "def move_rectangle_2(rectangle, dy, dx):\n",
    "    newrect = Rectangle()\n",
    "    newrect.c1.x = rectangle.c1.x + dx\n",
    "    newrect.c1.y = rectangle.c1.y + dy\n",
    "    newrect.c2.x = rectangle.c2.x + dx\n",
    "    newrect.c2.y = rectangle.c2.y + dy\n",
    "    return newrect\n"
   ]
  },
  {
   "cell_type": "code",
   "execution_count": 15,
   "metadata": {
    "collapsed": false,
    "solution": "Exercise 15.3"
   },
   "outputs": [],
   "source": [
    "\n",
    "class Rectangle(object):\n",
    "    def __init__(self, width, height, c_x, c_y):\n",
    "        self.width = width\n",
    "        self.height = height\n",
    "        self.corner = Point(c_x, c_y)\n",
    "        \n",
    "class Point(object):\n",
    "    def __init__(self,x,y):\n",
    "        self.x = x\n",
    "        self.y = y\n",
    "\n",
    "\n",
    "def move_rectangle(rect, dx, dy):\n",
    "    new_rectangle = Rectangle(rect.height, rect.width, rect.corner.x+dx, rect.corner.y+dy)\n",
    "    return new_rectangle\n",
    "\n",
    "box = Rectangle(100.0, 200.0, 0.0, 0.0)\n",
    "    \n",
    "new_box = move_rectangle(box, 2, 2)\n",
    "print('Unmodified Box:', box.corner.x, ':', box.corner.y)\n",
    "print('New, Modified Box:', new_box.corner.x, ':', new_box.corner.y)"
   ]
  },
  {
   "cell_type": "markdown",
   "metadata": {
    "feedback_response": true,
    "solution": "Feedback"
   },
   "source": [
    " "
   ]
  }
 ],
 "metadata": {
  "kernelspec": {
   "display_name": "Python 2",
   "language": "python",
   "name": "python2"
  },
  "language_info": {
   "codemirror_mode": {
    "name": "ipython",
    "version": 2
   },
   "file_extension": ".py",
   "mimetype": "text/x-python",
   "name": "python",
   "nbconvert_exporter": "python",
   "pygments_lexer": "ipython2",
   "version": "2.7.10"
  }
 },
 "nbformat": 4,
 "nbformat_minor": 0
}
