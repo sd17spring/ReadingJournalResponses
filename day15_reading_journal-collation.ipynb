{
 "cells": [
  {
   "cell_type": "markdown",
   "metadata": {
    "is_question": true,
    "problem": "Exercise B.1"
   },
   "source": [
    "### Exercise 1  \n",
    "\n",
    "Read the [Wikipedia page on Big-Oh notation](http://en.wikipedia.org/wiki/Big_O_notation) and answer the following questions:\n",
    "\n",
    " 1. What is the order of growth of n<sup>3</sup> + n<sup>2</sup>? What about 1000000 n<sup>3</sup> + n<sup>2</sup>? What about n<sup>3</sup> + 1000000 n<sup>2</sup>?\n",
    " 2. What is the order of growth of (n<sup>2</sup> + n) * (n + 1)? Before you start multiplying, remember that you only need the leading term.\n",
    " 3. If f is in O(g), for some unspecified function g, what can we say about af+b?\n",
    " 4. If f<sub>1</sub> and f<sub>2</sub> are in O(g), what can we say about f<sub>1</sub> + f<sub>2</sub>?\n",
    " 5. If f<sub>1</sub> is in O(g) and f<sub>2</sub> is in O(h), what can we say about f<sub>1</sub> + f<sub>2</sub>?\n",
    " 6. If f<sub>1</sub> is in O(g) and f<sub>2</sub> is O(h), what can we say about f<sub>1</sub> * f<sub>2</sub>? "
   ]
  },
  {
   "cell_type": "markdown",
   "metadata": {
    "collapsed": false,
    "solution": "Exercise B.1"
   },
   "source": [
    "  1. It's a third order growth. They're all third order.\n",
    "  2. Third order\n",
    "  3. af+b willl change in relation to O(g)\n",
    "  4. f1+f2 is also in O(g), the order of growth doesn't change.\n",
    "  5. f1+f2 = O(g+h)\n",
    "  6. f1 \\* f2 = O(g \\* h)"
   ]
  },
  {
   "cell_type": "markdown",
   "metadata": {
    "collapsed": false,
    "solution": "Exercise B.1"
   },
   "source": [
    "  1. Cubic, cubic, cubic\n",
    "  2. Cubic\n",
    "  3. O(g) since youa are just multiplying by and adding a constant\n",
    "  4. O(g) since both have the same growth and addition would not change this\n",
    "  5. O(g+h) as when run in series, the two operations will be applied seperately. i.e: Two for loops running one after the other\n",
    "  6. O(g*h) as when run in parallel, the operations will be applied at the same time. i.e: Nested for loops"
   ]
  },
  {
   "cell_type": "markdown",
   "metadata": {
    "feedback_response": true,
    "solution": "Feedback"
   },
   "source": [
    " "
   ]
  }
 ],
 "metadata": {
  "kernelspec": {
   "display_name": "Python 2",
   "language": "python",
   "name": "python2"
  },
  "language_info": {
   "codemirror_mode": {
    "name": "ipython",
    "version": 2
   },
   "file_extension": ".py",
   "mimetype": "text/x-python",
   "name": "python",
   "nbconvert_exporter": "python",
   "pygments_lexer": "ipython2",
   "version": "2.7.10"
  }
 },
 "nbformat": 4,
 "nbformat_minor": 0
}
