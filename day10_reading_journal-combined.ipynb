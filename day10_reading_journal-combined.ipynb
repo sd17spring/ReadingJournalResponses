{
 "cells": [
  {
   "cell_type": "markdown",
   "metadata": {
    "is_question": true,
    "problem": "Exercise 1"
   },
   "source": [
    "### Exercise\n",
    "\n",
    "We're going to take the first steps toward writing a calendar application. To keep things simple, we'll restrict ourselves to a single day for now. Write an `Event` class with the following attributes:\n",
    "\n",
    " - `name`  : Title for the `Event`\n",
    " - `start` : `Time` object representing the start time for the `Event`\n",
    " - `end`   : `Time` object representing the end time for the `Event`\n",
    "\n",
    "You can also augment your `Event` class with additional attributes, such as location and attendees.\n",
    "\n",
    "Write `__init__` and `__str__` methods for your `Event` class."
   ]
  },
  {
   "cell_type": "code",
   "execution_count": 17,
   "metadata": {
    "collapsed": false,
    "solution": "Exercise 1"
   },
   "outputs": [],
   "source": [
    "class Time():\n",
    "    \"\"\"Time of Event\"\"\"\n",
    "    pass\n",
    "    \n",
    "class Event():\n",
    "    \"\"\" Event Class\"\"\"\n",
    "    \n",
    "    def __init__(self, name, time):\n",
    "        self.name = name\n",
    "        self.start = time.start\n",
    "        self.end = time.end        \n",
    "    \n",
    "    def __str__(self):\n",
    "        return (\"Event:\" +  str(self.name) + \"  Start:\" + str(self.start) + \"  End:\" + str(self.end))\n",
    "\n",
    "time = Time()\n",
    "time.start = \"START\"\n",
    "time.end = \"END\"\n",
    "event = Event(\"EVENT\", time)\n",
    "print(event)"
   ]
  },
  {
   "cell_type": "code",
   "execution_count": 2,
   "metadata": {
    "collapsed": false,
    "solution": "Exercise 1"
   },
   "outputs": [],
   "source": [
    "class Time:\n",
    "    \"\"\"\n",
    "    Time object representing time of day\n",
    "    \n",
    "    attributes: hour, minute, second\n",
    "    \"\"\"\n",
    "    def __init__(self,hour,minute,second):\n",
    "        self.hour = hour\n",
    "        self.minute = minute\n",
    "        self.second = second\n",
    "        \n",
    "    def __str__(self):\n",
    "        return '%.2d:%.2d:%.2d'%(self.hour,self.minute,self.second)\n",
    "\n",
    "class Event:\n",
    "    \"\"\"\n",
    "    Event object that sets an event between two times\n",
    "    \n",
    "    attributes: name, start, end\n",
    "    \"\"\"\n",
    "    def __init__(self,name,start,end):\n",
    "        self.name = name\n",
    "        self.start =start\n",
    "        self.end = end\n",
    "        \n",
    "    def __str__(self):\n",
    "        return '%s is %s to %s' %(self.name,self.start,self.end)\n",
    "    \n",
    "start = Time(1,2,3)\n",
    "end = Time(4,5,6)\n",
    "birthday = Event('Birthday',start,end)\n",
    "print(birthday)\n"
   ]
  },
  {
   "cell_type": "code",
   "execution_count": 69,
   "metadata": {
    "collapsed": false,
    "solution": "Exercise 1"
   },
   "outputs": [],
   "source": [
    "import datetime\n",
    "\n",
    "class Event:\n",
    "    '''keeps track of a calendar event\n",
    "    Attributes: String name, datetime start, datetime end, String location, String participants\n",
    "    '''\n",
    "    def __init__(self, name, start, end, loc=None, participants=None):\n",
    "        self.name = name\n",
    "        self.start = start\n",
    "        self.end = end\n",
    "        self.loc = loc\n",
    "        self.participants = participants\n",
    "        \n",
    "    def __str__(self):\n",
    "        string = '''{}:\n",
    "        This event ocurrs on {} at {} and lasts for {}'''.format(self.name, self.start.date(), str(self.start.time())[:-3], str(self.duration())[:-3])\n",
    "        if(self.loc != None):\n",
    "            string += '''\n",
    "        The event will take place at: {}'''.format(self.loc)\n",
    "        if(self.participants != None):\n",
    "            string += '''\n",
    "        The event includes participants: {}'''.format(self.participants)\n",
    "            \n",
    "        return string\n",
    "        \n",
    "    def duration(self):\n",
    "        return (self.end - self.start)\n",
    "    \n",
    "class Agenda:\n",
    "    '''keeps track of multiple events on a calendar\n",
    "    attributes: name, list of events'''\n",
    "    \n",
    "    def __init__(self, name, events=None):\n",
    "        self.name = name\n",
    "        if(events == None):\n",
    "            events = []\n",
    "        self.events = events\n",
    "        \n",
    "    def __str__(self):\n",
    "        self.sortEvents()\n",
    "        string = 'Agenda for {}:'.format(self.name)\n",
    "        for event in self.events:\n",
    "            string += ('\\n\\n   ' + str(event))\n",
    "        if(self.hasConflicts()):\n",
    "            string += '\\n\\n***This agenda has one or more conflicts***'\n",
    "        else:\n",
    "            string += '\\n\\nThis agenda has no conflicts'\n",
    "        return string\n",
    "            \n",
    "    def addEvents(self, newEvents):\n",
    "        self.events.extend(newEvents)\n",
    "        \n",
    "    def sortEvents(self):\n",
    "        for i in range(len(self.events)-1):\n",
    "            for j in range(len(self.events)-i-1):\n",
    "                if (self.events[j].start - self.events[j+1].start) > datetime.timedelta(0):\n",
    "                    swap = self.events[j]\n",
    "                    self.events[j] = self.events[j+1]\n",
    "                    self.events[j+1] = swap\n",
    "    \n",
    "    def hasConflicts(self):\n",
    "        self.sortEvents()\n",
    "        for i in range(len(self.events)-1):\n",
    "            if (self.events[i+1].start - self.events[i].end) < datetime.timedelta(0):\n",
    "                return True\n",
    "        return False\n",
    "    \n",
    "start1 = datetime.datetime(2017,2,23,1,30)\n",
    "end1 = datetime.datetime(2017,2,23,3,10)\n",
    "classTomorrow = Event('SoftDes', start1, end1, 'AC 326', 'Amon, Oliver, NINJAs')\n",
    "\n",
    "start2 = datetime.datetime(2017,2,23,2,0)\n",
    "end2 = datetime.datetime(2017,2,23,3,30)\n",
    "distraction1 = Event('Fun stuff', start2, end2)\n",
    "\n",
    "start3 = datetime.datetime(2017,2,23,23,30)\n",
    "end3 = datetime.datetime(2017,2,24,3,0)\n",
    "distraction2 = Event('Cool stuff', start3, end3, None, 'Friends')\n",
    "\n",
    "mySchedule = Agenda('Rowan', [distraction1])\n",
    "mySchedule.addEvents([classTomorrow, distraction2])\n",
    "\n",
    "print(mySchedule)\n",
    "        "
   ]
  },
  {
   "cell_type": "markdown",
   "metadata": {
    "is_question": true,
    "problem": "Exercise 2"
   },
   "source": [
    "### Exercise\n",
    "\n",
    "Write a `duration` method that returns the duration of the `Event` in minutes."
   ]
  },
  {
   "cell_type": "code",
   "execution_count": 32,
   "metadata": {
    "collapsed": false,
    "solution": "Exercise 2"
   },
   "outputs": [],
   "source": [
    "class Time():\n",
    "    \"\"\"Time of Event\"\"\"\n",
    "    pass\n",
    "    \n",
    "class Event():\n",
    "    \"\"\" Event Class\"\"\"\n",
    "    \n",
    "    def __init__(self, name, time):\n",
    "        self.name = name\n",
    "        self.start = time.start\n",
    "        self.end = time.end        \n",
    "    \n",
    "    def __str__(self):\n",
    "        return (\"Event:\" +  str(self.name) + \"  Start:\" + str(self.start) + \"  End:\" + str(self.end))\n",
    "\n",
    "    def duration(self):\n",
    "        minutes_time_start = int(self.start[0])*60 + int(self.start[2:4])\n",
    "        minutes_time_end = int(self.end[0])*60 + int(self.end[2:4])\n",
    "        time_in_minutes = minutes_time_end - minutes_time_start\n",
    "        print(time_in_minutes)\n",
    "        return (time_in_minutes)\n",
    "\n",
    "    \n",
    "time = Time()\n",
    "time.start = '3:30'\n",
    "time.end = '6:32'\n",
    "event = Event(\"EVENT\", time)\n",
    "Event.duration(event)\n",
    "print(event)"
   ]
  },
  {
   "cell_type": "code",
   "execution_count": 7,
   "metadata": {
    "collapsed": false,
    "solution": "Exercise 2"
   },
   "outputs": [],
   "source": [
    "import datetime\n",
    "class Event: \n",
    "    def __init__(self, name, start, end):\n",
    "        self.name = name\n",
    "        self.start = start\n",
    "        self.end = end\n",
    "        \n",
    "    def __str__(self):\n",
    "        return 'Event: ' + self.name + '\\nStart: ' + str(self.start) + '\\nEnd: ' + str(self.end)\n",
    "    \n",
    "    def duration(self):\n",
    "        return self.end - self.start\n",
    "    \n",
    "    def starting(self):\n",
    "        return self.start\n",
    "    \n",
    "softdes_start = datetime.datetime(year = 2017, month = 2, day = 23, hour = 1, minute = 27)\n",
    "softdes_ends = datetime.datetime(year = 2017, month = 2, day = 23, hour = 3, minute = 30)\n",
    "softdes = Event('SoftDes!', softdes_start, softdes_ends)\n",
    "print(softdes)\n",
    "print(softdes.duration())"
   ]
  },
  {
   "cell_type": "markdown",
   "metadata": {
    "is_question": true,
    "problem": "Exercise 3"
   },
   "source": [
    "### Exercise\n",
    "\n",
    "Write an `Agenda` class that contains several `Event`s for the day.\n",
    "\n",
    "**Quick check: ** How should you store `Event`s within your `Agenda` class?\n"
   ]
  },
  {
   "cell_type": "markdown",
   "metadata": {},
   "source": [
    "I should have a list of Event objects"
   ]
  },
  {
   "cell_type": "code",
   "execution_count": 4,
   "metadata": {
    "collapsed": false
   },
   "outputs": [],
   "source": [
    "class Agenda():\n",
    "    \"\"\"\n",
    "    List of events for a given day\n",
    "    \n",
    "    attributes: events\n",
    "    \"\"\"\n",
    "    def __init__(self,events):\n",
    "        self.events = events\n",
    "        \n",
    "    def print_agenda(self):\n",
    "        print(\"Events for today are:\")\n",
    "        for event in self.events:\n",
    "            print(event)\n",
    "            \n",
    "breakfast = Event('Breakfast',Time(1,2,3),Time(4,5,6))\n",
    "lunch = Event('Lunch',Time(7,8,9),Time(10,11,12))\n",
    "dinner = Event('Dinner',Time(13,14,15),Time(16,17,18))\n",
    "agenda = Agenda([breakfast,lunch,dinner])\n",
    "agenda.print_agenda()"
   ]
  },
  {
   "cell_type": "code",
   "execution_count": 37,
   "metadata": {
    "collapsed": false
   },
   "outputs": [],
   "source": [
    "class Time():\n",
    "    \"\"\"\n",
    "    A class that represents time...deep I know\n",
    "    \"\"\"\n",
    "\n",
    "class Event():\n",
    "    \"\"\"\n",
    "    A class that represents an event on a calendar\n",
    "    \"\"\"\n",
    "    def __init__(self, other, name=\"empty\"):\n",
    "        self.name = name\n",
    "        self.start = other.start\n",
    "        self.end = other.end\n",
    "        \n",
    "    def __str__(self):\n",
    "        return \"Name:%s, Start:%d, End:%d\"%(self.name, self.start, self.end)\n",
    "\n",
    "class Agenda():\n",
    "    \"\"\"\n",
    "    A class that stores multiple event objects as part of a calendar\n",
    "    \"\"\"\n",
    "    global events\n",
    "    def __init__(self, other_event, other_time, event1='', start=0, end=1):\n",
    "        self.event = other_event\n",
    "        self.start_time = other_time.start\n",
    "        self.end_time = other_time.end\n",
    "        events.append(self.event.name)\n",
    "    def add_event(self, other_event):\n",
    "        self.event = other_event\n",
    "        events.append(self.event.name)        \n",
    "    def __str__(self):\n",
    "        return self.event.name\n",
    "    def print_agenda(self):\n",
    "        for i in range(len(events)):\n",
    "            print(events[i])\n",
    "            \n",
    "            \n",
    "time = Time()\n",
    "time.start = 0\n",
    "time.end = 1\n",
    "event = Event(time)\n",
    "event2 = Event(time, 'Hello')\n",
    "agenda = Agenda(event, time)\n",
    "agenda.add_event(event)\n",
    "agenda.add_event(event2)\n",
    "print(agenda)"
   ]
  },
  {
   "cell_type": "markdown",
   "metadata": {
    "feedback_response": true,
    "solution": "Feedback"
   },
   "source": [
    " "
   ]
  }
 ],
 "metadata": {
  "kernelspec": {
   "display_name": "Python 2",
   "language": "python",
   "name": "python2"
  },
  "language_info": {
   "codemirror_mode": {
    "name": "ipython",
    "version": 2
   },
   "file_extension": ".py",
   "mimetype": "text/x-python",
   "name": "python",
   "nbconvert_exporter": "python",
   "pygments_lexer": "ipython2",
   "version": "2.7.10"
  }
 },
 "nbformat": 4,
 "nbformat_minor": 0
}
