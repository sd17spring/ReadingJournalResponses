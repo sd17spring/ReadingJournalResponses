{
 "cells": [
  {
   "cell_type": "markdown",
   "metadata": {
    "is_question": true,
    "problem": "Exercise 11.2"
   },
   "source": [
    "### Exercise 11.2  \n",
    "\n",
    "Dictionaries have a method called [`get`](https://docs.python.org/3/library/stdtypes.html#mapping-types-dict) that takes a key and a default value. If the key appears in the dictionary, `get` returns the corresponding value; otherwise it returns the default value. For example:\n",
    "\n",
    "```\n",
    ">>> h = histogram('a')\n",
    ">>> print h\n",
    "{'a': 1}\n",
    ">>> h.get('a', 0)\n",
    "1\n",
    ">>> h.get('b', 0)\n",
    "0\n",
    "```\n",
    "\n",
    "Use `get` to write `histogram` more concisely. You should be able to eliminate the `if` statement. Add unit tests for your histogram implementation."
   ]
  },
  {
   "cell_type": "code",
   "execution_count": 60,
   "metadata": {
    "collapsed": false,
    "solution": "Exercise 11.2"
   },
   "outputs": [],
   "source": [
    "def histogram(s):\n",
    "    d = dict()\n",
    "    for c in s:\n",
    "        if c not in d:\n",
    "            d[c] = 1\n",
    "        else:\n",
    "            d[c] += 1\n",
    "    return d\n",
    "\n",
    "def histogram_concise(s):\n",
    "    \"\"\"\n",
    "        A method designed to emulate histogram more simply\n",
    "        input: String\n",
    "        output: dictionary containing the keys of the characters, and the values of the number of that letter\n",
    "            in the string\n",
    "            \n",
    "        >>> histogram_concise('test this python')\n",
    "        {' ': 2, 'n': 1, 'e': 1, 'y': 1, 'h': 2, 'o': 1, 't': 4, 'p': 1, 's': 2, 'i': 1}\n",
    "    \n",
    "        >>> histogram_concise('abcdefghiihgfedcba')\n",
    "        {'d': 2, 'g': 2, 'e': 2, 'a': 2, 'c': 2, 'i': 2, 'h': 2, 'b': 2, 'f': 2}\n",
    "    \"\"\"\n",
    "    d = dict()\n",
    "    for c in s:\n",
    "        d[c] = d.get(c, 0) + 1\n",
    "    return d\n",
    "    \n",
    "\n",
    "import doctest\n",
    "doctest.testmod()\n",
    "\n",
    "#-----\n",
    "#Everyone did the same implementation of histogram using get(), which works perfectly well"
   ]
  },
  {
   "cell_type": "markdown",
   "metadata": {
    "is_question": true,
    "problem": "Exercise 11.4"
   },
   "source": [
    "### Exercise 11.4  \n",
    "\n",
    "Modify `reverse_lookup` so that it builds and returns a list of all keys that map to `v`, or an empty list if there are none. Add unit tests for your implementation."
   ]
  },
  {
   "cell_type": "code",
   "execution_count": 15,
   "metadata": {
    "collapsed": false,
    "solution": "Exercise 11.4"
   },
   "outputs": [],
   "source": [
    "def reverse_lookup(d, v):\n",
    "    \"\"\"\n",
    "    Returns a list of all the keys in d that map to v.\n",
    "    >>> reverse_lookup({'a':1,'b':2,'c':4, 'd':1},1)\n",
    "    ['a', 'd']\n",
    "    \"\"\"\n",
    "    output = []\n",
    "    for k in d:\n",
    "        if d[k] == v:\n",
    "            output.append(k)\n",
    "    return output\n",
    "    \n",
    "    \n",
    "    \n",
    "if __name__ == \"__main__\":\n",
    "    import doctest\n",
    "    doctest.testmod()"
   ]
  },
  {
   "cell_type": "code",
   "execution_count": 11,
   "metadata": {
    "collapsed": false,
    "solution": "Exercise 11.4"
   },
   "outputs": [],
   "source": [
    "def reverse_lookup(d, v):\n",
    "    for k in d:\n",
    "        if d[k] == v:\n",
    "            return k\n",
    "    raise ValueError\n",
    "    \n",
    "print(reverse_lookup({'r': 2, 'o': 2, 'n': 1, 't': 1, 'b': 1, 'a': 1, 's': 2, 'u': 2},1))\n",
    "\n",
    "#-----\n",
    "#Nice error catching"
   ]
  },
  {
   "cell_type": "markdown",
   "metadata": {
    "is_question": true,
    "problem": "Exercise 11.6"
   },
   "source": [
    "### Exercise 11.6 (modified)\n",
    "\n",
    "Create a memoized version of your Levenshtein distance function from Day 7. What kind of performance change do you see?\n",
    "\n",
    "Optional: If you'd like to get some quantitative results, you could check out the [timeit](https://docs.python.org/3/library/timeit.html) module\n",
    "\n",
    "Note: You can also study Fibonacci here if you prefer."
   ]
  },
  {
   "cell_type": "code",
   "execution_count": null,
   "metadata": {
    "collapsed": true,
    "solution": "Exercise 11.6"
   },
   "outputs": [],
   "source": [
    "def fib(n, d={0: 1, 1: 1}):\n",
    "    if n < 0:\n",
    "        return 0\n",
    "    elif n == 0:\n",
    "        return 1\n",
    "    else:\n",
    "        term_1 = -1\n",
    "        term_2 = -1\n",
    "        if d.get(n-1, -1) == -1:\n",
    "            d[n-1] = fib(n-1)\n",
    "        term_1 = d[n-1]\n",
    "        if d.get(n-2, -1) == -1:\n",
    "            d[n-2] = fib(n-2)\n",
    "        term_2 = d[n-2]\n",
    "        return term_1 + term_2\n",
    "    \n",
    "#gives a significant time benefit, roughly 53 seconds faster for finding\n",
    "# the 40th fibonacci number"
   ]
  },
  {
   "cell_type": "code",
   "execution_count": 45,
   "metadata": {
    "collapsed": false,
    "solution": "Exercise 11.6"
   },
   "outputs": [],
   "source": [
    "list_of_ns = {0:0, 1:1}\n",
    "\n",
    "def fibonnaci(n):\n",
    "    if n in list_of_ns:\n",
    "        return list_of_ns[n]\n",
    "    answer = fibonnaci(n-1) + fibonnaci(n-2)\n",
    "    list_of_ns[n] = answer\n",
    "    return answer\n",
    "    \n",
    "fibonnaci(36)"
   ]
  },
  {
   "cell_type": "code",
   "execution_count": 10,
   "metadata": {
    "collapsed": false,
    "solution": "Exercise 11.6"
   },
   "outputs": [],
   "source": [
    "def memoize(function): # takes a function as an argument\n",
    "    d = {} # dictionary to store the function results\n",
    "    def look(t):\n",
    "        if t not in d:\n",
    "            d[t] = function(t) # will call fibonacci(t) if t not in d\n",
    "        return d[t]\n",
    "    return look\n",
    "\n",
    "@memoize # this \"decorates\" fibonacci with the function memoize\n",
    "def fibonacci(n): # fibonacci will only be called if n is not in d\n",
    "    if n == 0: \n",
    "        return 0\n",
    "    elif n == 1: \n",
    "        return 1\n",
    "    else: \n",
    "        return fibonacci(n-1)+fibonacci(n-2)\n",
    "    \n",
    "\n",
    "fibonacci = (memoize(fibonacci(40)))"
   ]
  },
  {
   "cell_type": "code",
   "execution_count": 123,
   "metadata": {
    "collapsed": false,
    "solution": "Exercise 11.6"
   },
   "outputs": [],
   "source": [
    "#fibonacci\n",
    "def memoized_fibonacci(n):\n",
    "    dictionary = dict()\n",
    "    dictionary[0] = 1\n",
    "    dictionary[1] = 1\n",
    "    number_list = [1, 1]\n",
    "    for c in range(n-2):\n",
    "        new_number = dictionary.get(c) + dictionary.get(c+1)\n",
    "        dictionary[c+2] = new_number\n",
    "        number_list.append(new_number)   \n",
    "    return number_list\n",
    "memoized_fibonacci(10)"
   ]
  },
  {
   "cell_type": "markdown",
   "metadata": {},
   "source": [
    "\n"
   ]
  },
  {
   "cell_type": "code",
   "execution_count": 54,
   "metadata": {
    "collapsed": false,
    "solution": "Exercise 11.6"
   },
   "outputs": [],
   "source": [
    "known = dict()\n",
    "\n",
    "def levenshtein_distance(a, b):\n",
    "    global known\n",
    "    n = a + ' ' + b \n",
    "    if n in known:\n",
    "        return known[n]\n",
    "    if len(a) == 0:\n",
    "        return len(b)\n",
    "    if len(b) == 0:\n",
    "        return len(a)\n",
    "    \n",
    "    if a[-1] == b[-1]:\n",
    "        cost = 0\n",
    "    else:\n",
    "        cost = 1\n",
    "    \n",
    "    known[n] = min(levenshtein_distance(a[:len(a) - 1], b) + 1, \n",
    "               levenshtein_distance(a, b[:len(b)- 1]) + 1,\n",
    "               levenshtein_distance(a[:len(a) - 1], b[:len(b)- 1]) + cost)\n",
    "    return known[n]\n",
    "\n",
    "if __name__ == '__main__':\n",
    "    import timeit\n",
    "    \n",
    "    print(timeit.timeit('levenshtein_distance(\"kitten\", \"sitting\")', setup=\"from __main__ import levenshtein_distance\"))\n",
    "    print(timeit.timeit('levenshtein_distance(\"kitten\", \"sitting\")', setup=\"from __main__ import levenshtein_distance\"))\n",
    "   "
   ]
  },
  {
   "cell_type": "code",
   "execution_count": 26,
   "metadata": {
    "collapsed": false,
    "solution": "Exercise 11.6"
   },
   "outputs": [],
   "source": [
    "levNum = 0\n",
    "\n",
    "\n",
    "def memLev(s1, s2):\n",
    "    global levNum\n",
    "\n",
    "    if len(s1) <= 1 or len(s2) <= 1:\n",
    "        left = abs(len(s1)-len(s2))\n",
    "        return levNum + left\n",
    "    else:\n",
    "        if s1[0] == s2[0]:\n",
    "            s1 = s1[1:]\n",
    "            s2 = s2[1:]\n",
    "            return memLev(s1, s2)\n",
    "        else:\n",
    "            levNum = levNum + 1\n",
    "            s1 = s1[1:]\n",
    "            s2 = s2[1:]\n",
    "            return memLev(s1, s2)\n",
    "        \n",
    "        \n",
    "print(memLev('sitten', 'sitting'))"
   ]
  },
  {
   "cell_type": "code",
   "execution_count": 22,
   "metadata": {
    "collapsed": false,
    "solution": "Exercise 11.6"
   },
   "outputs": [],
   "source": [
    "import math\n",
    "import doctest\n",
    "\n",
    "def levenshtein_distance(s1, s2):\n",
    "    \"\"\" Computes the Levenshtein distance between two strings.\n",
    "    \n",
    "    Based on the full-matrix implementation found on Wikipedia.\n",
    "    \n",
    "    >>> levenshtein_distance('automatic','automobile')\n",
    "    4\n",
    "    >>> levenshtein_distance('racecar','rccar')\n",
    "    2\n",
    "    \"\"\"\n",
    "    s1_len = len(s1)\n",
    "    s2_len = len(s2)\n",
    "    d = [[0 for j in range(s2_len+1)] for i in range(s1_len+1)] \n",
    "    \n",
    "    for i in range(1,s1_len+1):\n",
    "        d[i][0] = i\n",
    "    \n",
    "    for j in range(1,s2_len+1):\n",
    "        d[0][j] = j\n",
    "    \n",
    "    for j in range(1,s2_len+1):\n",
    "        for i in range(1,s1_len+1):\n",
    "            substitutionCost = 0 if s1[i-1] == s2[j-1] else 1\n",
    "            d[i][j] = min([d[i-1][j] + 1,                   # deletion\n",
    "                           d[i][j-1] + 1,                   # insertion\n",
    "                           d[i-1][j-1] + substitutionCost]) # substitution\n",
    "    return d[-1][-1]\n",
    "\n",
    "doctest.run_docstring_examples(levenshtein_distance,globals())\n",
    "levenshtein_distance('Cardboard','Surfboard')"
   ]
  },
  {
   "cell_type": "code",
   "execution_count": 18,
   "metadata": {
    "collapsed": false,
    "solution": "Exercise 11.6"
   },
   "outputs": [],
   "source": [
    "def levenshtein(str1,str2):\n",
    "    \"\"\"\n",
    "    returns number of simple operations required to make strings identical\n",
    "    \n",
    "    >>> levenshtein(cat,cat)\n",
    "    0\n",
    "    \n",
    "    >>> levenshtein(c, cat)\n",
    "    2\n",
    "    \"\"\"\n",
    "    if str1 == str2:\n",
    "        return 0\n",
    "    elif len(str1) == 0 or len(str2) == 0:\n",
    "        return len(str1) + len(str2)\n",
    "    elif str1[0] == str2[0]:\n",
    "        return levenshtein(str1[1:len(str1)], str2[1:len(str2)])\n",
    "    elif str1[0] != str2[0]:\n",
    "        return 1 + levenshtein(str1[1:len(str1)], str2[1:len(str2)])\n",
    "    \n",
    "\n",
    "known = {',':0}\n",
    "\n",
    "if __name__ == '__main__':\n",
    "    import timeit    \n",
    "\n",
    "def levenshtein_memo(str1,str2):\n",
    "    \"\"\"\n",
    "    returns number of simple operations required to make strings identical\n",
    "    \n",
    "    >>> levenshtein_memo('cat','cat')\n",
    "    0\n",
    "    \n",
    "    >>> levenshtein_memo('c', 'cat')\n",
    "    2\n",
    "    \"\"\"\n",
    "    n = str1 + ',' + str2\n",
    "    if n in known:\n",
    "        return known[n]\n",
    "    elif str1 == str2:\n",
    "        res = 0\n",
    "    elif len(str1) == 0 or len(str2) == 0:\n",
    "        res = len(str1) + len(str2)\n",
    "    elif str1[0] == str2[0]:\n",
    "        res = levenshtein_memo(str1[1:len(str1)], str2[1:len(str2)])\n",
    "    elif str1[0] != str2[0]:\n",
    "        res = 1 + levenshtein_memo(str1[1:len(str1)], str2[1:len(str2)])\n",
    "    known[n] = res\n",
    "    return res\n",
    "\n",
    "\n",
    "doctest.run_docstring_examples(levenshtein_memo, globals(), verbose=True)\n",
    "\n",
    "wrap = 'levenshtein_memo(\"asdfghj\",\"asdqwejasd\")'\n",
    "print(timeit.timeit(wrap, setup=\"from __main__ import levenshtein_memo\", number = 1000))\n",
    "\n",
    "\n",
    "wrap = 'levenshtein(\"asdfghj\",\"asdqwejasd\")'\n",
    "print(timeit.timeit(wrap, setup=\"from __main__ import levenshtein\", number = 1000))"
   ]
  },
  {
   "cell_type": "code",
   "execution_count": 1,
   "metadata": {
    "collapsed": false,
    "solution": "Exercise 11.6"
   },
   "outputs": [],
   "source": [
    "#I manipulated the C code that Wikipedia used in their Levenshtein demonstration.\n",
    "# len_s and len_t are the number of characters in string s and t respectively\n",
    "def LevenshteinDistance(s, len_s, t, len_t):\n",
    "    cost = 0\n",
    "    if len_s == 0:\n",
    "        return len_t\n",
    "    elif len_t == 0:\n",
    "        return len_s\n",
    "\n",
    "    if s[len_s-1] == t[len_t-1]:\n",
    "        cost = 0\n",
    "    else:\n",
    "        cost = 1\n",
    "\n",
    "    return min(LevenshteinDistance(s, len_s - 1, t, len_t) + 1,\n",
    "                 LevenshteinDistance(s, len_s, t, len_t - 1) + 1,\n",
    "                 LevenshteinDistance(s, len_s - 1, t, len_t - 1) + cost)\n",
    "\n",
    "LevenshteinDistance('kitten',6,'smitten',7)"
   ]
  },
  {
   "cell_type": "markdown",
   "metadata": {
    "is_question": true,
    "problem": "Exercise 12.1"
   },
   "source": [
    "### Chapter 12.4  \n",
    "\n",
    "Many of the built-in functions use variable-length argument tuples. For example, `max` and `min` can take any number of arguments:\n",
    "\n",
    "```\n",
    ">>> max(1,2,3)\n",
    "3\n",
    "```\n",
    "\n",
    "But `sum` does not.\n",
    "\n",
    "```\n",
    ">>> sum(1,2,3)\n",
    "TypeError: sum expected at most 2 arguments, got 3\n",
    "```\n",
    "\n",
    "Write a function called ```sumall``` that takes any number of arguments and returns their sum. \n",
    "\n",
    "Write unit tests for your function. Do I actually need to keep saying this? Let's assume it's always a good idea :)"
   ]
  },
  {
   "cell_type": "code",
   "execution_count": 64,
   "metadata": {
    "collapsed": false,
    "solution": "Exercise 12.1"
   },
   "outputs": [],
   "source": [
    "def sum_all(*arg):\n",
    "    \"\"\"\n",
    "        Parameters: Unknown number of arguments \n",
    "        Output: Sum of all inputs\n",
    "        \n",
    "        >>> sum_all(1,2,3,4,5,6,7,8,9,10)\n",
    "        55\n",
    "        >>> sum_all(1,2,3)\n",
    "        6\n",
    "    \"\"\"\n",
    "    length = len(arg)\n",
    "    sum = 0\n",
    "    for r in arg:\n",
    "        sum += r\n",
    "    return sum\n",
    "        \n",
    "import doctest\n",
    "doctest.testmod()"
   ]
  },
  {
   "cell_type": "code",
   "execution_count": null,
   "metadata": {
    "collapsed": false,
    "solution": "Exercise 12.1"
   },
   "outputs": [],
   "source": [
    "'''\n",
    "    Build a function called sumall that sums all arguments    \n",
    "    >>> sumall(1, 33, 88, 2, 3)\n",
    "    127\n",
    "'''\n",
    "\n",
    "def sumall(*args):\n",
    "    return sum(args)\n",
    "\n",
    "\n",
    "if __name__ == '__main__':\n",
    "    import doctest\n",
    "    doctest.testmod()"
   ]
  },
  {
   "cell_type": "code",
   "execution_count": 6,
   "metadata": {
    "collapsed": false,
    "solution": "Exercise 12.1"
   },
   "outputs": [],
   "source": [
    "def sumall(*args):\n",
    "    '''\n",
    "        DESC: Takes the sum of any number of numbers\n",
    "        ARGS:\n",
    "        *args - tuple - tuple of all numbers to sum\n",
    "        RTRN: sum of numbers\n",
    "        >>> sumall(1,2,3,4,5)\n",
    "        15\n",
    "        >>> sumall(0,0,0,0,0,0,0,0)\n",
    "        0\n",
    "        >>> sumall()\n",
    "        0\n",
    "        >>> sumall('a','b', 1, 2)\n",
    "        ERROR: non-integer value\n",
    "        ERROR: non-integer value\n",
    "        3\n",
    "        '''\n",
    "    finalsum = 0\n",
    "    for arg in range(len(args)):\n",
    "        if(type(args[arg]) is int):\n",
    "            finalsum = finalsum + args[arg]\n",
    "        else:\n",
    "            print('ERROR: non-integer value')\n",
    "    return finalsum\n",
    "\n",
    "import doctest\n",
    "doctest.run_docstring_examples(sumall, globals(), verbose=True)"
   ]
  },
  {
   "cell_type": "code",
   "execution_count": 6,
   "metadata": {
    "collapsed": false,
    "solution": "Exercise 12.1"
   },
   "outputs": [],
   "source": [
    "def sumall(*args):\n",
    "    allargs = []\n",
    "    for i in range(0,len(args)):\n",
    "        allargs.append(int(args[i]))\n",
    "    print(sum(allargs))\n",
    "    \n",
    "    \n",
    "sumall(4, 5, 3, 2, 1)"
   ]
  },
  {
   "cell_type": "markdown",
   "metadata": {
    "is_question": true,
    "problem": "Exercise 12 sort"
   },
   "source": [
    "### Exercise\n",
    "\n",
    "Write a function `sort_by_last_letter` that takes a list of words and returns a new list with the words sorted alphabetically by the _last letter_ in the word. Hint: use the **Decorate, Sort, Undecorate** pattern. Write unit tests for your function."
   ]
  },
  {
   "cell_type": "code",
   "execution_count": 74,
   "metadata": {
    "collapsed": false,
    "solution": "Exercise 12 sort"
   },
   "outputs": [],
   "source": [
    "def sort_by_last_letter(words):\n",
    "    \"\"\" takes list of words and returns new list sorted alphabetically\n",
    "        by last letter\n",
    "    >>> sort_by_last_letter(['lame', 'pea', 'dull', 'cook', 'apply', 'art'])  \n",
    "    ['pea', 'lame', 'cook', 'dull', 'art', 'apply']\n",
    "    \"\"\"\n",
    "    lastletter = []\n",
    "    for word in words:\n",
    "        i = len(word) - 1\n",
    "        letter = word[i]\n",
    "        lastletter.append((letter, word))\n",
    "    lastletter.sort()\n",
    "    newlist = []\n",
    "    for letter, word in lastletter:\n",
    "        newlist.append(word)\n",
    "    return newlist\n",
    "\n",
    "if __name__ == \"__main__\":\n",
    "    import doctest\n",
    "    doctest.testmod()\n",
    "    \n",
    "sort_by_last_letter(['lame', 'pea', 'dull', 'cook', 'apply', 'art'])    "
   ]
  },
  {
   "cell_type": "code",
   "execution_count": 94,
   "metadata": {
    "collapsed": false,
    "scrolled": true,
    "solution": "Exercise 12 sort"
   },
   "outputs": [],
   "source": [
    "def sort_by_last_letter(words):\n",
    "    \"\"\"\n",
    "    takes in a list of words and returns a new list with words \n",
    "    sorted alphabetically by last letter\n",
    "    >>> sort_by_last_letter(['cat', 'dog', 'cow'])\n",
    "    ['dog', 'cat', 'cow']\n",
    "    \"\"\"\n",
    "    words2 = []\n",
    "    words3 = []\n",
    "    for word in words:\n",
    "        words2.append(word[::-1])\n",
    "        \n",
    "    for word in sorted(words2):\n",
    "        words3.append(word[::-1])\n",
    "        \n",
    "    return words3\n",
    "\n",
    "doctest.run_docstring_examples(sort_by_last_letter, globals(), verbose=True)"
   ]
  },
  {
   "cell_type": "code",
   "execution_count": 22,
   "metadata": {
    "collapsed": false,
    "solution": "Exercise 12 sort"
   },
   "outputs": [],
   "source": [
    "def by_last_letter(words):\n",
    "    '''\n",
    "        DESC: sorts list of words alphabetically by last letter\n",
    "        ARGS:\n",
    "        words - list - words to sort\n",
    "        RTRN: list of sorted words\n",
    "        >>> by_last_letter(['cat','cad','cap','cab'])\n",
    "        ['cab', 'cad', 'cap', 'cat']\n",
    "        >>> by_last_letter(['from','to','under','behind'])\n",
    "        ['behind', 'from', 'to', 'under']\n",
    "        >>> by_last_letter([])\n",
    "        []\n",
    "        >>> by_last_letter(['Boat','Coat','Stoat','Float'])\n",
    "        ['Boat', 'Coat', 'Float', 'Stoat']\n",
    "        '''\n",
    "    decorated = [(word[-1],word) for i,word in enumerate(words)] # make list of tuples of (last letter, word)\n",
    "    decorated.sort()\n",
    "    return[(word) for n,word in decorated] # remove last letter from tuples\n",
    "\n",
    "\n",
    "import doctest\n",
    "doctest.run_docstring_examples(by_last_letter, globals(), verbose=True)"
   ]
  },
  {
   "cell_type": "code",
   "execution_count": 39,
   "metadata": {
    "collapsed": false,
    "solution": "Exercise 12 sort"
   },
   "outputs": [],
   "source": [
    "def sort_by_last_letter(word_list):\n",
    "    sorted_list = []\n",
    "    for word in word_list:\n",
    "        sorted_list.append((word[-1],word))\n",
    "    giraffe_list = []\n",
    "    for thing,giraffe in sorted(sorted_list):\n",
    "        giraffe_list = [giraffe] + giraffe_list\n",
    "    return giraffe_list\n",
    "   \n",
    "\n",
    "\n",
    "sort_by_last_letter([\"word\",\"birt\",\"turk\"])"
   ]
  },
  {
   "cell_type": "code",
   "execution_count": 43,
   "metadata": {
    "collapsed": false,
    "solution": "Exercise 12 sort"
   },
   "outputs": [],
   "source": [
    "def sort_by_last_letter(*t):\n",
    "    '''\n",
    "    >>>sort_by_last_letter('century', 'era', 'decade')\n",
    "    ['era', 'decade', 'century']\n",
    "    '''\n",
    "    words = list(t)\n",
    "    last_letters = []\n",
    "    new_list = []\n",
    "    \n",
    "    for element in words:\n",
    "        last_letters.append(element[-1])\n",
    "    dict_all = dict(zip(last_letters, words))\n",
    "    last_letters.sort()\n",
    "    \n",
    "    for element in last_letters:\n",
    "        new_list.append(dict_all[element])\n",
    "        \n",
    "    print(new_list)\n",
    "\n",
    "sort_by_last_letter('century', 'era', 'decade')"
   ]
  },
  {
   "cell_type": "code",
   "execution_count": 27,
   "metadata": {
    "collapsed": false,
    "solution": "Exercise 12 sort"
   },
   "outputs": [],
   "source": [
    "def sort_by_last_letter(words):\n",
    "    \"\"\" Sorts a list of words alphabetically according to their last letter.\n",
    "    >>> sort_by_last_letter(['Tim','elephant','an','bring'])\n",
    "    ['bring', 'Tim', 'an', 'elephant']\n",
    "    \"\"\"\n",
    "    return sorted(words,key=lambda w: w[-1])\n",
    "\n",
    "doctest.run_docstring_examples(sort_by_last_letter,globals())\n",
    "sort_by_last_letter(['hella','Buddy','car','dope'])"
   ]
  },
  {
   "cell_type": "code",
   "execution_count": 6,
   "metadata": {
    "collapsed": false,
    "solution": "Exercise 12 sort"
   },
   "outputs": [],
   "source": [
    "def sort_by_last_letter(items):\n",
    "    \"\"\"\n",
    "    Sorts alphabetical by last letter\n",
    "    >>> sort_by_last_letter([\"test\",\"runner\",\"racecar\"])\n",
    "    ['racecar', 'runner', 'test']\n",
    "    \"\"\"\n",
    "    #Reverse all elements\n",
    "    for i in range(len(items)):\n",
    "        items[i] = items[i][::-1]\n",
    "    #Sort alphabetically\n",
    "    items.sort()\n",
    "    #Undo the reverse\n",
    "    for i in range(len(items)):\n",
    "        items[i] = items[i][::-1]\n",
    "    return items\n",
    "\n",
    "import doctest\n",
    "doctest.run_docstring_examples(sort_by_last_letter, globals(), verbose=True)"
   ]
  },
  {
   "cell_type": "markdown",
   "metadata": {
    "is_question": true,
    "problem": "Exercise 12.3"
   },
   "source": [
    "### Exercise 12.1 \n",
    "\n",
    "Write a function called `most_frequent` that takes a string and prints the letters in decreasing order of frequency. Find text samples from several different languages and see how letter frequency varies between languages. Compare your results with the tables at http://en.wikipedia.org/wiki/Letter_frequencies. \n",
    "\n",
    "Allen's solution (try it on your own first): http://greenteapress.com/thinkpython2/code/most_frequent.py. "
   ]
  },
  {
   "cell_type": "code",
   "execution_count": 84,
   "metadata": {
    "collapsed": false,
    "solution": "Exercise 12.3"
   },
   "outputs": [],
   "source": [
    "def most_frequent(word): \n",
    "    \"\"\" takes a string and prints the letters in \n",
    "    decreasing order of frequency.\n",
    "    >>> most_frequent('cool')\n",
    "    'olc'\n",
    "    \"\"\"\n",
    "    letters = {}\n",
    "    for c in word:\n",
    "        letters[c] = 1 + letters.get(c,0)\n",
    "    a = []\n",
    "    a = sorted(letters, key= letters.get, reverse=True)  \n",
    "    return ''.join(a)\n",
    "\n",
    "if __name__ == \"__main__\":\n",
    "    import doctest\n",
    "    doctest.testmod()\n",
    "    \n",
    "most_frequent('brontosaurus')"
   ]
  },
  {
   "cell_type": "code",
   "execution_count": 105,
   "metadata": {
    "collapsed": false,
    "solution": "Exercise 12.3"
   },
   "outputs": [],
   "source": [
    "#use the already created histogram and reverse lookup functions to fulfill the function requirements.\n",
    "\n",
    "def better_histogram(s):\n",
    "    d = dict()\n",
    "    for c in s:\n",
    "        d[c] = d.get(c,0)+1\n",
    "    return d\n",
    "\n",
    "def reverse_lookup_v2(d, v):\n",
    "    keys = []\n",
    "    for k in d:\n",
    "        if d[k] == v:\n",
    "            keys.append(k)\n",
    "    return keys\n",
    "\n",
    "\n",
    "def most_frequent(s):\n",
    "    hist = better_histogram(s)\n",
    "    sort_hist = sorted(hist.values())\n",
    "    index = sort_hist[-4]\n",
    "    return reverse_lookup_v2(hist, index)\n",
    " \n",
    "    \n",
    "\n",
    "most_frequent(\"Alle Menschen sind frei und gleich an Würde und Rechten geboren. Sie sind mit Vernunft und Gewissen begabt und sollen einander im Geist der Brüderlichkeit begegnen.\")\n"
   ]
  },
  {
   "cell_type": "code",
   "execution_count": 116,
   "metadata": {
    "collapsed": false,
    "solution": "Exercise 12.3"
   },
   "outputs": [],
   "source": [
    "def text():\n",
    "    word_list = []\n",
    "    file = open('words.txt')\n",
    "    for line in file:\n",
    "        word = line.strip()\n",
    "        word_list.extend(word)\n",
    "    return word_list\n",
    "\n",
    "def most_frequent(text):\n",
    "    frequencies = histogram(text)\n",
    "    letters = []\n",
    "    for letter, freq in frequencies.items():\n",
    "        letters.append((freq, letter))    \n",
    "    letters.sort(reverse=True)\n",
    "    \n",
    "    for t in letters:\n",
    "        print(t[1])\n",
    "        \n",
    "most_frequent(text())\n"
   ]
  },
  {
   "cell_type": "code",
   "execution_count": 25,
   "metadata": {
    "collapsed": false,
    "solution": "Exercise 12.3"
   },
   "outputs": [],
   "source": [
    "import operator\n",
    "\n",
    "def most_frequent(text):\n",
    "    '''\n",
    "        DESC: prints the letters in a string in decreasing order of frequency\n",
    "        ARGS:\n",
    "        text - string - string in which to check frequency of letters\n",
    "        RTRN: list of letter ins decreasing order of frequency\n",
    "        >>> most_frequent('aababcabcdabcde')\n",
    "        ['a', 'b', 'c', 'd', 'e']\n",
    "        >>> most_frequent('aabbcccdddeeee')\n",
    "        ['e', 'd', 'c', 'a', 'b']\n",
    "        >>> most_frequent('')\n",
    "        []\n",
    "        '''\n",
    "    letters = {}\n",
    "    for letter in range(len(text)):\n",
    "        key = text[letter]\n",
    "        if key in letters:\n",
    "            letters[key] += 1\n",
    "        else:\n",
    "            letters[key] = 1\n",
    "    keylist = sorted(letters.items(), key=operator.itemgetter(1)) # Sorts dictionary into list keylist\n",
    "    keylist.reverse()\n",
    "    ans = [(character) for character,i in keylist]\n",
    "    return ans\n",
    "\n",
    "\n",
    "import doctest\n",
    "doctest.run_docstring_examples(most_frequent, globals(), verbose=True)"
   ]
  },
  {
   "cell_type": "code",
   "execution_count": 41,
   "metadata": {
    "collapsed": false,
    "solution": "Exercise 12.3"
   },
   "outputs": [],
   "source": [
    "def charfreqs(s):\n",
    "    s = s.replace(\" \",\"\")\n",
    "    s = s.lower()\n",
    "    d = dict()\n",
    "    a = []\n",
    "    for c in s:\n",
    "        if c not in d:\n",
    "            d[c] = 1\n",
    "            a.append(c)\n",
    "        else:\n",
    "            d[c] += 1\n",
    "    return sorted(a, key=lambda a : d[a])[::-1]\n",
    "\n",
    "\n",
    "charfreqs(\"This sentence represents a relatively common distribution of letters, representative of the English language as a whole.\")"
   ]
  },
  {
   "cell_type": "code",
   "execution_count": 26,
   "metadata": {
    "collapsed": false,
    "solution": "Exercise 12.3"
   },
   "outputs": [],
   "source": [
    "import collections\n",
    "\n",
    "def most_frequent(letters):\n",
    "    # Consider uppercase and lowercase letters to be the same\n",
    "    letters = letters.lower()\n",
    "    \n",
    "    # Preallocate so you don't have to search each time\n",
    "    letter_freq = {'a':0,'b':0,'c':0,'d':0,'e':0,'f':0,'g':0,'h':0,'i':0,'j':0,\n",
    "                   'k':0,'l':0,'m':0,'n':0,'o':0,'p':0,'q':0,'r':0,'s':0,'t':0,\n",
    "                   'u':0,'v':0,'w':0,'x':0,'y':0,'z':0}\n",
    "    \n",
    "    # Count up occurences for each letter\n",
    "    for char in letters:\n",
    "        if char in letter_freq:\n",
    "            letter_freq[char] += 1\n",
    "    \n",
    "    # Invert dictionary\n",
    "    d = {}\n",
    "    for k, v in letter_freq.items():\n",
    "        if v not in d:\n",
    "            d[v] = [k]\n",
    "        else:\n",
    "            d[v].append(k)\n",
    "    \n",
    "    d = collections.OrderedDict(sorted(d.items(), reverse=True))\n",
    "    for k,v in d.items():\n",
    "        print(v,'appeared',k,'times')\n",
    "\n",
    "article = \"Stephen Miller, the White House senior policy adviser, was circumspect on Sunday about Mr. Flynn’s future. Mr. Miller said on NBC’s “Meet the Press” that possibly misleading the vice president on communications with Russia was “a sensitive matter.” Asked if Mr. Trump still had confidence in Mr. Flynn, Mr. Miller responded, “That’s a question for the president.” This account of life inside the council — offices made up of several hundred career civil servants who advise the president on counterterrorism, foreign policy, nuclear deterrence and other issues of war and peace — is based on conversations with more than two dozen current and former council staff members and others throughout the government. All spoke on the condition that they not be quoted by name for fear of reprisals. “It’s so far a very dysfunctional N.S.C.,” Representative Adam B. Schiff of California, the senior Democrat on the House Intelligence Committee, said in a telephone interview. In a telephone conversation on Sunday afternoon, K. T. McFarland, the deputy national security adviser, said that early meetings of the council were brisker, tighter and more decisive than in the past, but she acknowledged that career officials were on edge. “Not only is this a new administration, but it is a different party, and Donald Trump was elected by people who wanted the status quo thrown out,” said Ms. McFarland, a veteran of the Reagan administration who most recently worked for Fox News. “I think it would be a mistake if we didn’t have consternation about the changes — most of the cabinet haven’t even been in government before.” There is always a shakedown period for any new National Security Council, whose staff is drawn from the State Department, the Pentagon and other agencies and is largely housed opposite the White House in the Eisenhower Executive Office Building. President Barack Obama replaced his first national security adviser, Gen. James Jones, a four-star former supreme allied commander in Europe, after concluding that the general was a bad fit for the administration. The first years of President George W. Bush’s council were defined by clashes among experienced bureaucratic infighters — Dick Cheney, Donald Rumsfeld and Colin Powell among them — and by decisions that often took place outside official channels. But what is happening under the Trump White House is different, officials say, and not just because of Mr. Trump’s Twitter foreign policy. (Two officials said that at one recent meeting, there was talk of feeding suggested Twitter posts to the president so the council’s staff would have greater influence.) A number of staff members who did not want to work for Mr. Trump have returned to their regular agencies, leaving a larger-than-usual hole in the experienced bureaucracy. Many of those who remain, who see themselves as apolitical civil servants, have been disturbed by displays of overt partisanship. At an all-hands meeting about two weeks into the new administration, Ms. McFarland told the group it needed to “make America great again,” numerous staff members who were there said. New Trump appointees are carrying coffee mugs with that Trump campaign slogan into meetings with foreign counterparts, one staff member said. Nervous staff members recently met late at night at a bar a few blocks from the White House and talked about purging their social media accounts of any suggestion of anti-Trump sentiments. Mr. Trump’s council staff draws heavily from the military — often people who had ties to Mr. Flynn when he served as a senior military intelligence officer and then as the director of the Defense Intelligence Agency before he was forced out of the job. Many of the first ideas that have been floated have involved military, rather than diplomatic, initiatives. Mr. Trump and Defense Secretary Jim Mattis arriving at the Pentagon last month. Mr. Mattis did not see a number of executive orders before they were issued. Credit Stephen Crowley/The New York Times Last week, Defense Secretary Jim Mattis was exploring whether the Navy could intercept and board an Iranian ship to look for contraband weapons possibly headed to Houthi fighters in Yemen. The potential interdiction seemed in keeping with recent instructions from Mr. Trump, reinforced in meetings with Mr. Mattis and Secretary of State Rex W. Tillerson, to crack down on Iran’s support of terrorism.But the ship was in international waters in the Arabian Sea, according to two officials. Mr. Mattis ultimately decided to set the operation aside, at least for now. White House officials said that was because news of the impending operation leaked, a threat to security that has helped fuel the move for the insider threat program. But others doubt whether there was enough basis in international law, and wondered what would happen if, in the early days of an administration that has already seen one botched military action in Yemen, American forces were suddenly in a firefight with the Iranian Navy.Ms. McFarland often draws on her television experience to make clear to officials that they need to make their points in council meetings quickly, and she signals when to wrap up, several participants said.\"\n",
    "most_frequent(article)"
   ]
  },
  {
   "cell_type": "code",
   "execution_count": 31,
   "metadata": {
    "collapsed": false,
    "solution": "Exercise 12.3"
   },
   "outputs": [],
   "source": [
    "def most_frequent(phrase):\n",
    "    \"\"\"\n",
    "    Returns frequnecy of characters in decreasing order of frequency\n",
    "    >>> most_frequent(\"aaaaabbbbcccdde\")\n",
    "    e\n",
    "    d\n",
    "    c\n",
    "    b\n",
    "    a\n",
    "    \"\"\"\n",
    "    #Break into characters\n",
    "    phrase = phrase.lower()\n",
    "    tp = tuple(phrase)\n",
    "    dic = dict()\n",
    "    pairs = []\n",
    "    \n",
    "    #Assign frequency to characters\n",
    "    for c in tp:\n",
    "        dic[c] = dic.get(c,0)+1\n",
    "  \n",
    "    #Send frequencies to a list\n",
    "    for q in dic:\n",
    "        pairs.append((dic[q], q))\n",
    "    pairs.sort()\n",
    "    for t in range(len(pairs)):\n",
    "        print((pairs[t])[1])\n",
    "\n",
    "import doctest\n",
    "doctest.run_docstring_examples(most_frequent, globals(), verbose=True)"
   ]
  },
  {
   "cell_type": "markdown",
   "metadata": {
    "is_question": true,
    "problem": "Exercise 12.6"
   },
   "source": [
    "### Challenge: Exercise 12.4   (optional)\n",
    "\n",
    "From a [Car Talk Puzzler](http://www.cartalk.com/content/puzzlers):\n",
    "\n",
    "What is the longest English word, that remains a valid English word, as you remove its letters one at a time?\n",
    "\n",
    "Now, letters can be removed from either end, or the middle, but you can’t rearrange any of the letters. Every time you drop a letter, you wind up with another English word. If you do that, you’re eventually going to wind up with one letter and that too is going to be an English word—one that’s found in the dictionary. I want to know what’s the longest word and how many letters does it have?\n",
    "\n",
    "I’m going to give you a little modest example: Sprite. Ok? You start off with sprite, you take a letter off, one from the interior of the word, take the r away, and we’re left with the word spite, then we take the e off the end, we’re left with spit, we take the s off, we’re left with pit, it, and I. \n",
    "\n",
    "Write a program to find all words that can be reduced in this way, and then find the longest one.\n",
    "\n",
    "This exercise is a little more challenging than most, so here are some suggestions:\n",
    "\n",
    "- You might want to write a function that takes a word and computes a list of all the words that can be formed by removing one letter. These are the “children” of the word.\n",
    "- Recursively, a word is reducible if any of its children are reducible. As a base case, you can consider the empty string reducible.\n",
    "- The word list from [Chapter 9.1](http://www.greenteapress.com/thinkpython2/html/thinkpython2010.html) Exercise 1 doesn’t contain single letter words. So you might want to add “I”, “a”, and the empty string.\n",
    "- To improve the performance of your program, you might want to memoize the words that are known to be reducible.\n",
    "\n",
    "Allen's solution: http://greenteapress.com/thinkpython2/code/reducible.py."
   ]
  },
  {
   "cell_type": "code",
   "execution_count": 35,
   "metadata": {
    "collapsed": false,
    "solution": "Exercise 12.6"
   },
   "outputs": [],
   "source": [
    "reducible = {'':True} # memoized is_reducible to increase speed\n",
    "\n",
    "\n",
    "def is_reducible(word):\n",
    "    if word in reducible:\n",
    "        return reducible[word]\n",
    "    res = False\n",
    "    for i in range(len(word)):\n",
    "        child = word[0:i] + word[i +1:len(word)]\n",
    "        if child in wordlist:\n",
    "            if is_reducible(child) == True:\n",
    "                res = True\n",
    "    reducible[word] = res\n",
    "    return res\n",
    "    \n",
    "\n",
    "# compiles list of words\n",
    "fin = open('words.txt')\n",
    "wordlist = ['', 'i','a']\n",
    "for line in fin:\n",
    "    word = line.strip()\n",
    "    wordlist.append(word)\n",
    "    \n",
    "    \n",
    "max_len = 0\n",
    "longest = ''\n",
    "for word in wordlist:\n",
    "    if len(word) > max_len: # reduces number of times I call is_reducible, since it is slow\n",
    "        if is_reducible(word) == True:\n",
    "            max_len = len(word)\n",
    "            longest = word\n",
    "            print(longest)\n",
    "print('Finished')\n"
   ]
  },
  {
   "cell_type": "code",
   "execution_count": 1,
   "metadata": {
    "collapsed": false,
    "solution": "Exercise 12.6"
   },
   "outputs": [],
   "source": [
    "import doctest\n",
    "\n",
    "\n",
    "def get_children(word):\n",
    "    \"\"\"\n",
    "    precondition : a string word\n",
    "    postcondition : Returns all children of word\n",
    "\n",
    "    >>> get_children('sprite')\n",
    "    ['spite', 'sprit']\n",
    "\n",
    "    >>> get_children('spite')\n",
    "    ['site', 'spit']\n",
    "    \"\"\"\n",
    "    children = []\n",
    "    for i in range(len(word)):\n",
    "        if is_this_word(word[0:i]+word[i+1:]):\n",
    "            children.append(word[0:i]+word[i+1:])\n",
    "    return children\n",
    "\n",
    "\n",
    "def is_reducible(word):\n",
    "    \"\"\"\n",
    "    precondition : string word\n",
    "    postcondition : returns True if children are reducible\n",
    "\n",
    "    >>> is_reducible('sprite')\n",
    "    True\n",
    "\n",
    "    >>> is_reducible('asdf')\n",
    "    False\n",
    "    \"\"\"\n",
    "    if word in ['', 'a', 'i']:  # base case\n",
    "        return True\n",
    "    if word in memo:  # checks if the word is in memo\n",
    "        return memo[word]\n",
    "    children = get_children(word)\n",
    "    for child in children:\n",
    "        memo[child] = is_reducible(child)\n",
    "        return memo[child]  # memoization\n",
    "    return False\n",
    "\n",
    "\n",
    "def is_this_word(word):\n",
    "    \"\"\"\n",
    "    preconditon : a string word\n",
    "    postcondition : returns True if word is an actual word in word.txt\n",
    "                    returns False if not\n",
    "\n",
    "    >>> is_this_word('asdfdsafdasff')\n",
    "    False\n",
    "\n",
    "    >>> is_this_word('sprite')\n",
    "    True\n",
    "    \"\"\"\n",
    "    if word in words_dict:\n",
    "        return True\n",
    "    else:\n",
    "        return False\n",
    "\n",
    "\n",
    "def init_english_dict(file_name):\n",
    "    \"\"\"\n",
    "    precondition : the directory of the words.txt file_name\n",
    "    postcondition : returns a dictionary of words in words.txt + 'a','i',' ''\n",
    "    \"\"\"\n",
    "    english_words = dict()\n",
    "    f = open(file_name)\n",
    "    lines = f.readlines()\n",
    "    for l in lines:\n",
    "        word = l.strip().lower()\n",
    "        english_words[word] = None\n",
    "    f.close()\n",
    "    for word in ['a', 'i', '']:\n",
    "        english_words[word] = None\n",
    "    return english_words\n",
    "\n",
    "\n",
    "if __name__ == \"__main__\":\n",
    "    words_dict = init_english_dict(\"/home/slyu/Documents/softdes/words.txt\")  #this won't work on other computers\n",
    "    memo = dict()\n",
    "    reducible_word = []\n",
    "    for word in words_dict:\n",
    "        if is_reducible(word):\n",
    "            reducible_word.append(word)\n",
    "    reducible_word.sort(key=len, reverse=True) #reducible_word contains all the reducible words\n",
    "    print(\"longest reducible word : \" + reducible_word[0])\n",
    "    doctest.testmod()\n",
    " "
   ]
  },
  {
   "cell_type": "markdown",
   "metadata": {
    "is_poll": true,
    "is_question": true,
    "problem": "Feedback"
   },
   "source": [
    "## Reading Journal feedback\n",
    "\n",
    "[Please complete this short survey](https://docs.google.com/forms/d/e/1FAIpQLScQekhUrf6YYjpfQiAAbavLIA-IJklv_PX1BWbGgxj7JPolmw/viewform?c=0&w=1)\n",
    "\n",
    "If you have any comments on this Reading Journal, feel free to leave them in the survey linked above. This could include suggestions to improve the exercises, topics you'd like to see covered in class next time, or other feedback.\n",
    "\n",
    "If you have Python questions or run into problems while completing the reading, you should post them to Piazza instead so you can get a quick response before your journal is submitted."
   ]
  },
  {
   "cell_type": "markdown",
   "metadata": {
    "feedback_response": true,
    "solution": "Feedback"
   },
   "source": [
    " "
   ]
  },
  {
   "cell_type": "markdown",
   "metadata": {
    "feedback_response": true,
    "solution": "Feedback"
   },
   "source": [
    " I am unsure of how to convert a list of a list of strings back into a single string."
   ]
  }
 ],
 "metadata": {
  "kernelspec": {
   "display_name": "Python 2",
   "language": "python",
   "name": "python2"
  },
  "language_info": {
   "codemirror_mode": {
    "name": "ipython",
    "version": 2
   },
   "file_extension": ".py",
   "mimetype": "text/x-python",
   "name": "python",
   "nbconvert_exporter": "python",
   "pygments_lexer": "ipython2",
   "version": "2.7.10"
  }
 },
 "nbformat": 4,
 "nbformat_minor": 0
}
