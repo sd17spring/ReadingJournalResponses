{
 "cells": [
  {
   "cell_type": "code",
   "execution_count": null,
   "metadata": {
    "collapsed": true
   },
   "outputs": [],
   "source": [
    "# Day 3 Reading Journal – Responses"
   ]
  },
  {
   "cell_type": "markdown",
   "metadata": {
    "is_question": true
   },
   "source": [
    "### Exercise 8.1\n",
    "Skim the documentation of the Python [string methods](http://docs.python.org/2/library/stdtypes.html#string-methods). Play with them to make sure you understand how they work-- strip, replace, and upper/lower are particularly useful. Show us some of your experiments."
   ]
  },
  {
   "cell_type": "code",
   "execution_count": null,
   "metadata": {
    "collapsed": false
   },
   "outputs": [],
   "source": [
    "print('banana'.capitalize())\n",
    "print('banana'.center(80))\n",
    "print('banana'.endswith('x'))\n",
    "print('banana'.find('a'))\n",
    "print('banana'.index('na'))\n",
    "print('banana'.isalpha())\n",
    "print('Banana'.islower())\n",
    "print('banana'.join(['banana', 'banana']))\n",
    "print('banana'.lstrip('bgha'))"
   ]
  },
  {
   "cell_type": "code",
   "execution_count": null,
   "metadata": {
    "collapsed": false
   },
   "outputs": [],
   "source": [
    "print(str.capitalize('pranay dubey'))\n",
    "print(str.center('pranay dubey',18,'k'))\n",
    "print(str.count('pranay dubey','a',0,5))\n",
    "print(str.endswith('pranay dubey','bey'))\n",
    "print(str.find('pranay dubey','y'))\n",
    "print(str.lower('PRANAY DUBEY'))\n",
    "print(str.strip('pranay dubey','anpr'))\n",
    "print(str.swapcase('pRaNaY DuBeY'))\n",
    "print(str.title('pranay dubey'))\n",
    "print(str.replace('pranay dubey','ana','aga'))\n",
    "print(str.upper('pranay dubey'))"
   ]
  },
  {
   "cell_type": "code",
   "execution_count": null,
   "metadata": {
    "collapsed": false
   },
   "outputs": [],
   "source": [
    "# Returns a sentence with all words backwards and the sentence reversed.\n",
    "def flip_sentence(sentence): return ' '.join([word[::-1] for word in sentence.split()[::-1]])\n",
    "\n",
    "# Gets rid of stupid q (sorry q)\n",
    "def replace_q(input): return input.replace('q','j')\n",
    "\n",
    "\n",
    "print(flip_sentence(\"The quick brown fox jumped over the lazy dog.\"))"
   ]
  },
  {
   "cell_type": "markdown",
   "metadata": {
    "is_question": true
   },
   "source": [
    "### Exercise 8.4  \n",
    "\n",
    "The following functions are all intended to check whether a string contains any lowercase letters, but at least some of them are wrong. For each function, describe what the function actually does (assuming that the parameter is a string)."
   ]
  },
  {
   "cell_type": "code",
   "execution_count": null,
   "metadata": {
    "collapsed": false
   },
   "outputs": [],
   "source": [
    "def any_lowercase1(s): #accidently fixed this instead of finding the issue\n",
    "    \"checks if there are lowercase letters\"\n",
    "    for c in s:\n",
    "        if c.islower() == True:\n",
    "            return True\n",
    "    return False\n",
    "\n",
    "print(any_lowercase1(\"BOoP\"))\n",
    "print(any_lowercase1(\"BOOP\"))"
   ]
  },
  {
   "cell_type": "code",
   "execution_count": null,
   "metadata": {
    "collapsed": false
   },
   "outputs": [],
   "source": [
    "def any_lowercase1(s):\n",
    "    for c in s:\n",
    "        if c.islower():\n",
    "            return True\n",
    "        else:\n",
    "            return False\n",
    "\n",
    "        \n",
    "any_lowercase1('Thhh')"
   ]
  },
  {
   "cell_type": "code",
   "execution_count": null,
   "metadata": {
    "collapsed": false
   },
   "outputs": [],
   "source": [
    "def any_lowercase1(s):\n",
    "    #funtion determines if the first letter in the inputted string\n",
    "    #is lowercase. If it is, the function returns true. If it is not,\n",
    "    #the function returns False\n",
    "    for c in s:\n",
    "        if c.islower():\n",
    "            return True\n",
    "        else:\n",
    "            return False\n",
    "any_lowercase1('pLaY')"
   ]
  },
  {
   "cell_type": "markdown",
   "metadata": {
    "is_question": true
   },
   "source": [
    "### Exercise\n",
    "\n",
    "Write a Python function named `average` that takes a list of numbers and returns their arithmetic mean."
   ]
  },
  {
   "cell_type": "code",
   "execution_count": null,
   "metadata": {
    "collapsed": false
   },
   "outputs": [],
   "source": [
    "def average(list):\n",
    "    total = 0\n",
    "    for num in list:\n",
    "        total += num\n",
    "    average = total / len(list)\n",
    "    return average\n",
    "average([5,5,5,5])\n",
    "\n",
    "#You want to avoid naming variables the same thing as datatypes, ie. list, str, int etc. to avoid confusion"
   ]
  },
  {
   "cell_type": "code",
   "execution_count": null,
   "metadata": {
    "collapsed": false
   },
   "outputs": [],
   "source": [
    "def average(numbers):\n",
    "    sum = 0\n",
    "    for i in numbers:\n",
    "        sum = sum+i\n",
    "    ave = sum / len(numbers)\n",
    "    return ave\n",
    "\n",
    "print(average([1,2,3,4]))"
   ]
  },
  {
   "cell_type": "code",
   "execution_count": null,
   "metadata": {
    "collapsed": false
   },
   "outputs": [],
   "source": [
    "def average(lis):\n",
    "    sum = 0\n",
    "    for i in range(len(lis)):\n",
    "        sum = sum + lis[i] \n",
    "    return sum/ len(lis)\n",
    "\n",
    "\n",
    "average([1,2,3,4])\n",
    "    "
   ]
  },
  {
   "cell_type": "code",
   "execution_count": null,
   "metadata": {
    "collapsed": false
   },
   "outputs": [],
   "source": [
    "def average(list):\n",
    "    \"\"\"\n",
    "    Takes a list of numbers and averages them\n",
    "    \n",
    "    >>> average([1, 2, 3])\n",
    "    2.0\n",
    "    \"\"\"\n",
    "    ave = sum(list) / len(list)\n",
    "    return ave\n",
    "\n",
    "\n",
    "import doctest\n",
    "doctest.run_docstring_examples(average, globals(), verbose = True)"
   ]
  },
  {
   "cell_type": "markdown",
   "metadata": {
    "is_question": true
   },
   "source": [
    "### Exercise\n",
    "You own a restaurant, and you need to keep up with the latest food fads or risk losing your fickle customers. You decide to write a Python function that adds the hot new ingredient _du jour_ to each of your regular menu items and returns the trendy new menu."
   ]
  },
  {
   "cell_type": "code",
   "execution_count": null,
   "metadata": {
    "collapsed": false
   },
   "outputs": [],
   "source": [
    "def add_ingredient(menu, ingredient):\n",
    "    \"\"\"\n",
    "    Given a list of string 'menu' items and a trendy 'ingredient' string of the day,\n",
    "    return a new menu list of strings with the ingredient added to each.\n",
    "    \n",
    "    >>> add_ingredient([\"burger\", \"salad\", \"ice cream\"], \"kale\")\n",
    "    ['burger with kale', 'salad with kale', 'ice cream with kale']\n",
    "    \n",
    "    \"\"\"\n",
    "    for i in range(len(menu)):\n",
    "        menu[i] = menu[i] + ' with ' + ingredient\n",
    "    return menu\n",
    "\n",
    "print(add_ingredient(['burger','salad','pizza','coffee'],'avacado'))"
   ]
  },
  {
   "cell_type": "code",
   "execution_count": null,
   "metadata": {
    "collapsed": false
   },
   "outputs": [],
   "source": [
    "def add_ingredient(menu, ingredient):\n",
    "    \"\"\"\n",
    "    Given a list of string 'menu' items and a trendy 'ingredient' string of the day,\n",
    "    return a new menu list of strings with the ingredient added to each.\n",
    "    \n",
    "    >>> add_ingredient([\"burger\", \"salad\", \"ice cream\"], \"kale\")\n",
    "    ['burger with kale', 'salad with kale', 'ice cream with kale']\n",
    "    \n",
    "    \"\"\"\n",
    "    new_menu = []\n",
    "    for word in menu:\n",
    "        new_menu.append(word + ingredient)\n",
    "    return new_menu\n",
    "    \n",
    "add_ingredient(['kumquats', 'cucumbers', 'eggs', 'oatmeal'], ' du jour')    \n"
   ]
  },
  {
   "cell_type": "code",
   "execution_count": null,
   "metadata": {
    "collapsed": false
   },
   "outputs": [],
   "source": [
    "def add_ingredient(menu, ingredient):\n",
    "    for i in range(len(menu)):\n",
    "        menu[i] = menu[i] + \" with \" + ingredient\n",
    "    return menu\n",
    "\n",
    "\n",
    "add_ingredient([\"burger\", \"salad\", \"ice cream\"], \"kale\")"
   ]
  },
  {
   "cell_type": "code",
   "execution_count": null,
   "metadata": {
    "collapsed": false
   },
   "outputs": [],
   "source": [
    "def add_ingredient(menu, ingredient):\n",
    "    \"\"\"\n",
    "    Given a list of string 'menu' items and a trendy 'ingredient' string of the day,\n",
    "    return a new menu list of strings with the ingredient added to each.\n",
    "    \n",
    "    >>> add_ingredient([\"burger\", \"salad\", \"ice cream\"], \"kale\")\n",
    "    ['burger with kale', 'salad with kale', 'ice cream with kale']\n",
    "    \n",
    "    \"\"\"\n",
    "    index = 0\n",
    "    while index < len(menu):\n",
    "        menu[index] = menu[index] + ' with ' + ingredient\n",
    "        index += 1\n",
    "    print(menu)\n",
    "    \n",
    "    \n",
    "add_ingredient(['burger', 'salad', 'ice cream'], 'goat cheese')"
   ]
  },
  {
   "cell_type": "code",
   "execution_count": null,
   "metadata": {
    "collapsed": false
   },
   "outputs": [],
   "source": [
    "def add_ingredient(menu, ingredient):\n",
    "    \"\"\"\n",
    "    Given a list of string 'menu' items and a trendy 'ingredient' string of the day,\n",
    "    return a new menu list of strings with the ingredient added to each.\n",
    "    \n",
    "    >>> add_ingredient([\"burger\", \"salad\", \"ice cream\"], \"kale\")\n",
    "    ['burger with kale', 'salad with kale', 'ice cream with kale']\n",
    "    \n",
    "    \"\"\"\n",
    "    return [item + ' with ' +ingredient for item in menu] \n",
    "\n",
    "add_ingredient(['Orange Juice', 'Potato Chips', 'Diet Coke', 'Actual Coke'], 'Toothpaste')"
   ]
  },
  {
   "cell_type": "code",
   "execution_count": null,
   "metadata": {
    "collapsed": false
   },
   "outputs": [],
   "source": [
    "def add_ingredient(menu, ingredient):\n",
    "    \"\"\"\n",
    "        Given a list of string 'menu' items and a trendy 'ingredient' string of the day,\n",
    "        return a new menu list of strings with the ingredient added to each.\n",
    "    \n",
    "        >>> add_ingredient([\"burger\", \"salad\", \"ice cream\"], \"kale\")\n",
    "        ['burger with kale', 'salad with kale', 'ice cream with kale']\n",
    "        >>> add_ingredient([], \"\")\n",
    "        []\n",
    "        >>> add_ingredient([], \"salt\")\n",
    "        []\n",
    "        >>> add_ingredient([\"pizza\", \"grease\"], \"\")\n",
    "        ['pizza', 'grease']\n",
    "        \"\"\"\n",
    "    i = 0\n",
    "    for item in menu:\n",
    "        if (ingredient != \"\"):\n",
    "            menu[i] += \" with \" + ingredient\n",
    "            i+= 1\n",
    "    return menu\n",
    "\n",
    "# Running doctests in jupyter notebook:\n",
    "# If you'd like to actually run the doctests here, you can uncomment the lines below.\n",
    "# We use this slightly more complex method to test only the add_ingredient function,\n",
    "# without running tests on any other functions that may be in this notebook.\n",
    "\n",
    "import doctest\n",
    "doctest.run_docstring_examples(add_ingredient, globals(), verbose=True)"
   ]
  },
  {
   "cell_type": "code",
   "execution_count": null,
   "metadata": {
    "collapsed": false
   },
   "outputs": [],
   "source": [
    "def add_ingredient(menu, ingredient):\n",
    "    \"\"\"\n",
    "    Given a list of string 'menu' items and a trendy 'ingredient' string of the day,\n",
    "    return a new menu list of strings with the ingredient added to each.\n",
    "    \n",
    "    >>> add_ingredient([\"burger\", \"salad\", \"ice cream\"], \"kale\")\n",
    "    ['burger with kale', 'salad with kale', 'ice cream with kale']\n",
    "    \n",
    "    \"\"\"\n",
    "    count = len(menu)\n",
    "    i = 0\n",
    "    print(count)\n",
    "    for i in range(len(menu)):\n",
    "        menu[i] = menu[i] + \" with \" + ingredient\n",
    "        i +=1\n",
    "    return menu\n",
    "    pass    # TODO: Implement me\n",
    "\n",
    "add_ingredient([\"burger\",\"salad\",\"ice cream\"], \"kale\")"
   ]
  },
  {
   "cell_type": "code",
   "execution_count": null,
   "metadata": {
    "collapsed": false
   },
   "outputs": [],
   "source": [
    "def add_ingredient(menu, ingredient):\n",
    "    \n",
    "    \"\"\"\n",
    "    >>> add_ingredient([\"burger\", \"ice cream\", \"salad\"], \"kale\")\n",
    "    ['burger', 'burger with kale', 'ice cream', 'ice cream with kale', 'salad', 'salad with kale']\n",
    "    \"\"\"\n",
    "    \n",
    "    menu2 = 2 * menu\n",
    "    menu2.sort()\n",
    "      \n",
    "    for item in range(len(menu2)):\n",
    "        if item %2 != 0:\n",
    "            menu2[item] = menu2[item] + \" with \" + ingredient   \n",
    "    return menu2\n",
    "\n",
    "import doctest\n",
    "doctest.run_docstring_examples(add_ingredient, globals(), verbose=True)    \n",
    "\n"
   ]
  }
 ],
 "metadata": {
  "anaconda-cloud": {},
  "kernelspec": {
   "display_name": "Python 2",
   "language": "python",
   "name": "python2"
  },
  "language_info": {
   "codemirror_mode": {
    "name": "ipython",
    "version": 2
   },
   "file_extension": ".py",
   "mimetype": "text/x-python",
   "name": "python",
   "nbconvert_exporter": "python",
   "pygments_lexer": "ipython2",
   "version": "2.7.10"
  }
 },
 "nbformat": 4,
 "nbformat_minor": 0
}
