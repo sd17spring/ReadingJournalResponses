{
 "cells": [
  {
   "cell_type": "markdown",
   "metadata": {
    "is_question": true,
    "problem": "Exercise 6.4"
   },
   "source": [
    "### Exercise 6.1  \n",
    "\n",
    "Draw a stack diagram for the following program. What does the program print? \n",
    "\n",
    "You can do this on paper or using [Python Tutor](http://pythontutor.com/)"
   ]
  },
  {
   "cell_type": "code",
   "execution_count": null,
   "metadata": {
    "collapsed": false,
    "solution": "Exercise 6.4"
   },
   "outputs": [],
   "source": [
    "def b(z):\n",
    "    prod = a(z, z) # 4: create variable prod and call a; 7: assign a's return value to prod\n",
    "    print(z, prod) # 8: print z, prod\n",
    "    return prod  # 9: return prod\n",
    "\n",
    "def a(x, y):\n",
    "    x = x + 1 # 5: create variable x \n",
    "    return x * y # 6: return x*y\n",
    "\n",
    "def c(x, y, z):\n",
    "    total = x + y + z  # 2: create variable total\n",
    "    square = b(total)**2 # 3: create variable square and call b; 10: assign square b's return value squared\n",
    "    return square # 11: return square\n",
    "\n",
    "x = 1\n",
    "y = x + 1\n",
    "print(c(x, y+3, x+y)) # Step 1: call c; 12: print square\n",
    "\n",
    "# the program will print:\n",
    "# 9 90\n",
    "# 8100\n",
    "\n",
    "# program actually prints (when I ran the code)\n",
    "# 9 90\n",
    "# 8100"
   ]
  },
  {
   "cell_type": "code",
   "execution_count": null,
   "metadata": {
    "collapsed": false,
    "solution": "Exercise 6.4"
   },
   "outputs": [],
   "source": [
    "def b(z):\n",
    "    prod = a(z, z)\n",
    "    print(z, prod)\n",
    "    return prod\n",
    "\n",
    "def a(x, y):\n",
    "    x = x + 1\n",
    "    return x * y\n",
    "\n",
    "def c(x, y, z):\n",
    "    total = x + y + z\n",
    "    square = b(total)**2\n",
    "    return square\n",
    "\n",
    "x = 1\n",
    "y = x + 1\n",
    "print(c(x, y+3, x+y))\n",
    "\n",
    "\"\"\" Initally: x = 1, y = 2\n",
    "    in c : x = 1, y = 5, z = 3\n",
    "            total = 9\n",
    "        b: z = 9\n",
    "            a: x = 9, y = 9\n",
    "                x = 10\n",
    "        prod = 90\n",
    "    print(9, 90)\n",
    "    square = 90^2 = 8100\n",
    "    return 8100\n",
    "\"\"\""
   ]
  },
  {
   "cell_type": "code",
   "execution_count": null,
   "metadata": {
    "collapsed": false,
    "solution": "Exercise 6.4"
   },
   "outputs": [],
   "source": [
    "def b(z):\n",
    "    prod = a(z, z) # prod = z * (z+1)\n",
    "    print(z, prod)\n",
    "    return prod # returns z * (z+1)\n",
    "\n",
    "def a(x, y):\n",
    "    x = x + 1\n",
    "    return x * y  #returns the product (x+1)*y = xy + y\n",
    "\n",
    "def c(x, y, z):\n",
    "    total = x + y + z # sum of x, y, z\n",
    "    square = b(total)**2 # (total * total+1)^2\n",
    "    return square\n",
    "\n",
    "x = 1\n",
    "y = x + 1\n",
    "print(c(x, y+3, x+y))  #total = 1 + 5 + 3 = 9, total * (total+1) = 9 * 10 = 90, result = 90^2 = 8100\n",
    "\n",
    "#this program prints ((x+y+z)*(x+y+z+1))**2"
   ]
  },
  {
   "cell_type": "markdown",
   "metadata": {
    "is_question": true,
    "problem": "Exercise 6.6"
   },
   "source": [
    "### Exercise 6.3  \n",
    "\n",
    "A palindrome is a word that is spelled the same backward and forward, like “noon” and “redivider”. Recursively, a word is a palindrome if the first and last letters are the same and the middle is a palindrome.\n",
    "\n",
    "You can use the `first`, `last`, and `middle` helper functions defined in Think Python, or do the string slices inside your function directly. Be sure to think about your base cases.\n",
    "    \n",
    "Write a function called `is_palindrome` that takes a string argument and returns `True` if it is a palindrome and `False` otherwise. Remember that you can use the built-in function `len` to check the length of a string.\n",
    "\n",
    "Write some unit tests for your function (optionally using doctest) to show that it works as intended."
   ]
  },
  {
   "cell_type": "code",
   "execution_count": null,
   "metadata": {
    "collapsed": false,
    "solution": "Exercise 6.6"
   },
   "outputs": [],
   "source": [
    "def is_palindrome(n):\n",
    "    letters = list(n)\n",
    "    is_palindrome = True\n",
    "    \n",
    "    for letter in letters:\n",
    "        if letter == letters[-1]:\n",
    "            letters.pop(-1)\n",
    "        else:\n",
    "            is_palendrome = False\n",
    "            break\n",
    "    return is_palindrome\n",
    "is_palindrome('noon')\n",
    "\n",
    "#--------\n",
    "#You can directly return is_palindrom in the else statement instead of breaking out of the for loop:\n",
    "for letter in letters:\n",
    "    if letter == letters[-1]:\n",
    "        letters.pop(-1)\n",
    "    else:\n",
    "        return False\n",
    "return True"
   ]
  },
  {
   "cell_type": "code",
   "execution_count": null,
   "metadata": {
    "collapsed": false,
    "solution": "Exercise 6.6"
   },
   "outputs": [],
   "source": [
    "def is_palindrome(str):\n",
    "    str = str.lower()\n",
    "    length = len(str)\n",
    "    # Base case\n",
    "    if length <= 1:\n",
    "        return True\n",
    "    else:\n",
    "        # first letter is not equal to last string\n",
    "        if str[0] != str[length-1]:\n",
    "            return False\n",
    "        # recursively calls is_palindrome with truncated string\n",
    "        else:\n",
    "            str = str[1:length-1]\n",
    "            return is_palindrome(str)\n",
    "\n",
    "#-----\n",
    "#Nice use of recursion!"
   ]
  },
  {
   "cell_type": "code",
   "execution_count": null,
   "metadata": {
    "collapsed": false,
    "solution": "Exercise 6.6"
   },
   "outputs": [],
   "source": [
    "def first(word):\n",
    "    return word[0]\n",
    "def middle(word):\n",
    "    return word[1:-1]\n",
    "def last(word):\n",
    "    return word[-1]\n",
    "\n",
    "def is_palindrome(word):\n",
    "    \"\"\"Multipile cases, one including if there is no word/one letter word. Checks if word is palindrome\"\"\"\n",
    "    if(len(word)) <= 1:\n",
    "        return True\n",
    "    if first(word) != last(word):\n",
    "        return False\n",
    "    return is_palindrome(middle(word))\n",
    "\n",
    "print(is_palindrome('joe'))\n",
    "print(is_palindrome('bob'))\n",
    "\n",
    "#----\n",
    "#Interesting use of helper functions "
   ]
  },
  {
   "cell_type": "code",
   "execution_count": null,
   "metadata": {
    "collapsed": false,
    "solution": "Exercise 6.6"
   },
   "outputs": [],
   "source": [
    "def is_palindrome(string):\n",
    "    \"\"\" return true if word is palindrome, return false if it is not.\n",
    "    >>> is_palindrome('noon')\n",
    "    True\n",
    "    \"\"\"\n",
    "    \n",
    "    stringback = string[::-1]\n",
    "    if len(string) == len(stringback):\n",
    "        if string[0] == stringback[0]:\n",
    "            if string[-1] == stringback[-1]:\n",
    "                if string[1:-1] == stringback[1:-1]:\n",
    "                    return True\n",
    "                else:\n",
    "                    return False\n",
    "            else:\n",
    "                return False\n",
    "        else:\n",
    "            return False\n",
    "    else:\n",
    "        return False\n",
    "    \n",
    "if __name__ == \"__main__\":\n",
    "    import doctest\n",
    "    doctest.testmod()\n",
    "    \n",
    "is_palindrome('noon')\n",
    "\n",
    "#-----\n",
    "#You don't need to attach an else statement to an if statement. IE:\n",
    "\n",
    "if len(string) == len(stringback):\n",
    "    if string[0] == stringback[0]:\n",
    "        if string[-1] == stringback[-1]:\n",
    "            if string[1:-1] == stringback[1:-1]:\n",
    "                return True \n",
    "return False #If True isn't returned in the innermost if statement, return False once we've exited the conditional"
   ]
  },
  {
   "cell_type": "code",
   "execution_count": null,
   "metadata": {
    "collapsed": false,
    "solution": "Exercise 6.6"
   },
   "outputs": [],
   "source": [
    "def is_palindrome(word):\n",
    "    \"\"\"\n",
    "    Return whether or not a word is a palindrome\n",
    "    \n",
    "    >>> is_palindrome('bob')\n",
    "    True\n",
    "    >>> is_palindrome('cat')\n",
    "    False\n",
    "    >>> is_palindrome('racecar')\n",
    "    True\n",
    "    \"\"\"\n",
    "    for n in range(len(word)//2):\n",
    "        if word[n] != word[-(n+1)]:\n",
    "            return False\n",
    "    return True\n",
    "\n",
    "import doctest\n",
    "doctest.run_docstring_examples(is_palindrome,globals(),verbose=True)\n",
    "\n",
    "#----\n",
    "#Not checking every letter of the word is smart"
   ]
  },
  {
   "cell_type": "code",
   "execution_count": null,
   "metadata": {
    "collapsed": false,
    "solution": "Exercise 6.6"
   },
   "outputs": [],
   "source": [
    "def is_palindrome(word):\n",
    "    if len(word) < 2:\n",
    "        return True # if a word is only two letters, then it is a palindrome\n",
    "    elif word[0] != word[-1]:  # if the first and last letters of the string are not equal, then it isn't a palindrome\n",
    "        return False\n",
    "    else: # if the string is longer than 2 characters and the first and last letters are equal\n",
    "        return is_palindrome(word[1:-1]) # chop off the first and last letters of the string and do it again\n",
    "    \n",
    "# Test cases:\n",
    "print(is_palindrome('noon'))\n",
    "print(is_palindrome('redivider'))\n",
    "print(is_palindrome('neveroddoreven'))\n",
    "print(is_palindrome('never odd or even'))\n",
    "\n",
    "\n",
    "#----\n",
    "#Nice use of comments, but keep in mind that in-line comments are meant to be very short descriptors\n",
    "#Detailed explanation of code functionality should be inside docstrings"
   ]
  },
  {
   "cell_type": "code",
   "execution_count": null,
   "metadata": {
    "collapsed": false,
    "solution": "Exercise 6.6"
   },
   "outputs": [],
   "source": [
    "def is_palindrome(a):\n",
    "    \"\"\" This function should determine if a given string is a \n",
    "        palindrome.\n",
    "    >>> is_palindrome('level')\n",
    "    True\n",
    "    \"\"\"\n",
    "    \n",
    "    if a[::-1] == a: \n",
    "        return True\n",
    "    else:\n",
    "        return False\n",
    "        \n",
    "is_palindrome('level')\n",
    "\n",
    "import doctest\n",
    "doctest.testmod()\n",
    "\n",
    "#----\n",
    "#Smart use of list comprehension"
   ]
  },
  {
   "cell_type": "code",
   "execution_count": null,
   "metadata": {
    "collapsed": false,
    "solution": "Exercise 6.6"
   },
   "outputs": [],
   "source": [
    "def is_palindrome_simple(word):\n",
    "    return word == word[::-1]\n",
    "\n",
    "def is_palindrome_recurse(word):\n",
    "    if len(word)<=1:\n",
    "        return True\n",
    "    else:\n",
    "        if word[0] == word[-1]:\n",
    "            return is_palindrome_recurse(word[1:-1])\n",
    "        else:\n",
    "            return False\n",
    "\n",
    "print(is_palindrome_simple('racecar'))\n",
    "print(is_palindrome_recurse('racecar'))\n",
    "\n",
    "#----\n",
    "#Nice use of list comprehension!"
   ]
  },
  {
   "cell_type": "markdown",
   "metadata": {
    "is_question": true,
    "problem": "Exercise 6.6 challenge"
   },
   "source": [
    "### Challenge (optional)\n",
    "\n",
    "Use the word list from [Chapter 9.1](http://www.greenteapress.com/thinkpython2/html/thinkpython2010.html) Exercise 1 to find all of the palindromes."
   ]
  },
  {
   "cell_type": "code",
   "execution_count": null,
   "metadata": {
    "collapsed": false,
    "scrolled": true,
    "solution": "Exercise 6.6 challenge"
   },
   "outputs": [],
   "source": [
    "fin = open('words.txt')\n",
    "import string\n",
    "\n",
    "def find_pal():\n",
    "    output = []\n",
    "    for line in fin:\n",
    "        line = line.strip('/n')\n",
    "        line = line.strip(string.whitespace)\n",
    "        if is_palindrome(line) == True:\n",
    "            output.append(line)\n",
    "    return output\n",
    "\n",
    "val = is_palindrome('yessey')\n",
    "print(find_pal())\n",
    "\n",
    "#-----\n",
    "#line.strip() will audomatically strip newline character /n and empty spaces\n",
    "#You also don't need to explicitely check if an if statement is true\n"
   ]
  },
  {
   "cell_type": "code",
   "execution_count": null,
   "metadata": {
    "collapsed": false,
    "solution": "Exercise 6.6 challenge"
   },
   "outputs": [],
   "source": [
    "fin = open('words.txt')\n",
    "        \n",
    "def all_palindromes():\n",
    "    for line in fin:\n",
    "        word = line.strip()\n",
    "        if is_palindrome(word):\n",
    "            print(word)\n",
    "            \n",
    "all_palindromes()\n",
    "    \n",
    "#-----\n",
    "#Finds all the palindromes in the file by iterating though each line"
   ]
  },
  {
   "cell_type": "code",
   "execution_count": null,
   "metadata": {
    "collapsed": false,
    "solution": "Exercise 6.6 challenge"
   },
   "outputs": [],
   "source": [
    "def find_palindromes(word_list):\n",
    "    palindromes = []\n",
    "    for word in word_list:\n",
    "        if is_palindrome(word):\n",
    "            palindromes.append(word)\n",
    "        else:\n",
    "            continue\n",
    "    return palindromes\n",
    "\n",
    "find_palindromes(make_word_list())\n",
    "\n",
    "#-----\n",
    "#'continue' skips the rest of the code in a for loop and automatically continues on to the next loop\n",
    "#However in this case, there's nothing after that if is_palindrom, so continue isn't needed IE:\n",
    "palindromes = []\n",
    "for word in word_list:\n",
    "    if is_palindrome(word):\n",
    "        palindromes.append(word)\n",
    "return palindromes\n"
   ]
  },
  {
   "cell_type": "code",
   "execution_count": null,
   "metadata": {
    "collapsed": false,
    "solution": "Exercise 6.6 challenge"
   },
   "outputs": [],
   "source": [
    "def palindrist_simp(file):\n",
    "    f = open(file,\"r\")\n",
    "    lines = f.readlines()\n",
    "    i = 0\n",
    "    palins = [line[:-1] for line in lines if is_palindrome_simple(line[:-1])]\n",
    "    return palins\n",
    "\n",
    "def palindrist_rec(file):\n",
    "    f = open(file,\"r\")\n",
    "    lines = f.readlines()\n",
    "    i = 0\n",
    "    palins = [line[:-1] for line in lines if is_palindrome_recurse(line[:-1])]\n",
    "    return palins\n",
    "        \n",
    "file = \"words.txt\"\n",
    "%timeit palindrist_simp(file)\n",
    "%timeit palindrist_rec(file)\n",
    "print('\\n')\n",
    "print(palindrist_simp(file))\n",
    "print(palindrist_rec(file))\n",
    "\n",
    "#----\n",
    "#Cool use of timeit and list comprehensions!"
   ]
  },
  {
   "cell_type": "markdown",
   "metadata": {
    "is_question": true,
    "problem": "Exercise 6.7"
   },
   "source": [
    "### Exercise 6.4  \n",
    "\n",
    "A number `a` is a power of `b` if it is divisible by `b` and `a/b` is a power of `b`. Write a function called `is_power` that takes parameters `a` and `b` and returns `True` if `a` is a power of `b`. Note: you will have to think about the base case."
   ]
  },
  {
   "cell_type": "code",
   "execution_count": 13,
   "metadata": {
    "collapsed": false,
    "solution": "Exercise 6.7"
   },
   "outputs": [
    {
     "name": "stdout",
     "output_type": "stream",
     "text": [
      "True\n"
     ]
    }
   ],
   "source": [
    "def is_power(a,b):\n",
    "    ''' determines if a is a power of b.'''\n",
    "    if a == b:\n",
    "        print(\"I don't know why it doesn't return true, but consider this returning true.\" )\n",
    "        return True\n",
    "    else: \n",
    "        c = a/b\n",
    "        if c % b != 0:\n",
    "            return False    \n",
    "        is_power(c,b)\n",
    "\n",
    "\n",
    "#print(is_power(8,2))\n",
    "\n",
    "#----\n",
    "#The result of is_power(c,b) is never returned, so the result of the fuction is None. The fix for this would be:\n",
    "def is_power2(a,b):\n",
    "    ''' determines if a is a power of b.'''\n",
    "    if a == b:\n",
    "        return True\n",
    "    else: \n",
    "        c = a/b\n",
    "        if a % b != 0:\n",
    "            return False    \n",
    "        else:\n",
    "            return is_power2(c,b)\n",
    "\n",
    "print(is_power2(8,2))\n",
    "    "
   ]
  },
  {
   "cell_type": "code",
   "execution_count": null,
   "metadata": {
    "collapsed": false,
    "solution": "Exercise 6.7"
   },
   "outputs": [],
   "source": [
    "def is_power(a,b)\n",
    "    a = a1\n",
    "    while True:\n",
    "        if a1/b != a1//b: \n",
    "            return False\n",
    "        if a1/b ==1:\n",
    "            break\n",
    "        if a1/b ==b:\n",
    "            break \n",
    "        a1/b = a1\n",
    "    return True \n",
    "\n",
    "#I think this is what it is asking. It seems like a cyclical argument. I am not confused on the code but on question/s wording. \n",
    "        \n",
    "#-----\n",
    "#When you're confused on how to write a function, you can try to decompose it by looking at the expected inputs and outputs\n",
    "#In this case is_power(8, 2) should return True, is_power(8,3) returns False. From this you have an approach to solve\n"
   ]
  },
  {
   "cell_type": "code",
   "execution_count": null,
   "metadata": {
    "collapsed": false,
    "solution": "Exercise 6.7"
   },
   "outputs": [],
   "source": [
    "def is_power(a,b):\n",
    "    if a == 1:\n",
    "        return True\n",
    "    elif a%b == 0 and is_power(a/b, b) == True:\n",
    "        return True\n",
    "    else:\n",
    "        return False\n",
    "is_power(4, 5)"
   ]
  },
  {
   "cell_type": "code",
   "execution_count": null,
   "metadata": {
    "collapsed": false,
    "solution": "Exercise 6.7"
   },
   "outputs": [],
   "source": [
    "def is_power(a, b):\n",
    "    # Base Case\n",
    "    if a == b:\n",
    "        return True\n",
    "    # Establishes if a divides by b cleanly, and if so recursively calls is_power\n",
    "    if a % b == 0:\n",
    "        return is_power(a/b, b)\n",
    "    else:\n",
    "        return False\n",
    "    \n",
    "    \n",
    "print(is_power(8, 2))\n",
    "print(is_power(27, 3))\n",
    "print(is_power(1, 3))"
   ]
  },
  {
   "cell_type": "code",
   "execution_count": null,
   "metadata": {
    "collapsed": false,
    "solution": "Exercise 6.7"
   },
   "outputs": [],
   "source": [
    "def is_power(a,b):\n",
    "    if a == b:\n",
    "        return True\n",
    "    if a % b != 0:\n",
    "        return False\n",
    "    return is_power(a/b,b)\n",
    "\n",
    "def test_power(l):\n",
    "    for pair in l:\n",
    "        print(pair[0],'is a power of' if is_power(pair[0],pair[1]) else 'is not a power of',pair[1])\n",
    "\n",
    "test_power([[27,3],[24,2],[81,9]])"
   ]
  },
  {
   "cell_type": "markdown",
   "metadata": {
    "is_question": true,
    "problem": "Exercise 6.8"
   },
   "source": [
    "### Challenge (optional) - Exercise 6.5  \n",
    "\n",
    "The greatest common divisor (GCD) of `a` and `b` is the largest number that divides both of them with no remainder.\n",
    "\n",
    "One way to find the GCD of two numbers is based on the observation that if `r` is the remainder when `a` is divided by `b`, then `gcd(a, b) = gcd(b, r)`. As a base case, we can use `gcd(a, 0) = a`.\n",
    "\n",
    "Write a function called `gcd` that takes parameters `a` and `b` and returns their greatest common divisor."
   ]
  },
  {
   "cell_type": "code",
   "execution_count": null,
   "metadata": {
    "collapsed": false,
    "problem": "Exercise 6.8"
   },
   "outputs": [],
   "source": [
    "def gcd(a, b):\n",
    "    \"\"\"\n",
    "    returns the greatest common diviser of two numbers a and b\n",
    "    >>> gcd(24,27)\n",
    "    3\n",
    "    >>> gcd(24,12)\n",
    "    12\n",
    "    \"\"\"\n",
    "    if b == 0:\n",
    "        return a\n",
    "    r = a % b\n",
    "    return gcd(b, r)\n",
    "\n",
    "import doctest\n",
    "doctest.run_docstring_examples(gcd,globals(), verbose=True) "
   ]
  },
  {
   "cell_type": "code",
   "execution_count": null,
   "metadata": {
    "collapsed": false,
    "problem": "Exercise 6.8"
   },
   "outputs": [],
   "source": [
    "def gcd(a, b):\n",
    "    if a < b:\n",
    "        c = b - a\n",
    "        gcd(a, c)\n",
    "    if a > b:\n",
    "        c = a - b\n",
    "        gcd(b, c)\n",
    "    else: # when b == 0, the return is a\n",
    "        return a\n",
    "        \n",
    "gcd(12, 144)"
   ]
  },
  {
   "cell_type": "code",
   "execution_count": null,
   "metadata": {
    "collapsed": false,
    "problem": "Exercise 6.8"
   },
   "outputs": [],
   "source": [
    "def gcd(a,b):\n",
    "    if b == 0:\n",
    "        return a\n",
    "    return gcd(b, a % b)\n",
    "\n",
    "\n",
    "def test_gcd(l):\n",
    "    for pair in l:\n",
    "        print('The GCD of %i and %i is %i' % (pair[0], pair[1], gcd(pair[0], pair[1])))\n",
    "\n",
    "test_gcd([[81,27],[12,18],[5,3]])\n",
    "print('That was easy')"
   ]
  },
  {
   "cell_type": "code",
   "execution_count": null,
   "metadata": {
    "collapsed": false,
    "problem": "Exercise 6.8"
   },
   "outputs": [],
   "source": [
    "def gcd(a, b):\n",
    "    \"\"\"\n",
    "    returns the greates common denominator of a and b\n",
    "    >>> gcd(5,7)\n",
    "    1\n",
    "    \n",
    "    >>> gcd(6,9)\n",
    "    3\n",
    "    \n",
    "    >>> gcd(9,6)\n",
    "    3\n",
    "    \n",
    "    >>> gcd(12,12)\n",
    "    12\n",
    "    \"\"\"\n",
    "    if b > a:\n",
    "        return gcd(b, a)\n",
    "    elif b == 0:\n",
    "        return a\n",
    "    else:\n",
    "        r = a - b * (a // b)\n",
    "        return gcd(b, r)\n",
    "\n",
    "\n",
    "doctest.run_docstring_examples(gcd, globals(), verbose=True)"
   ]
  },
  {
   "cell_type": "code",
   "execution_count": null,
   "metadata": {
    "collapsed": false,
    "problem": "Exercise 6.8"
   },
   "outputs": [],
   "source": [
    "#implementation without recursion\n",
    "#Euclid's algorithm\n",
    "\n",
    "def GCD(num1, num2):\n",
    "    while num1 != num2:\n",
    "        if num1 > num2:\n",
    "            num1 = num1 - num2\n",
    "        else:\n",
    "            num2 = num2 - num1\n",
    "    return num1\n",
    "\n",
    "print(GCD(27, 18))"
   ]
  },
  {
   "cell_type": "markdown",
   "metadata": {
    "is_poll": true,
    "is_question": true
   },
   "source": [
    "## Reading Journal feedback\n",
    "\n",
    "[Please complete this short survey](https://docs.google.com/forms/d/e/1FAIpQLScQekhUrf6YYjpfQiAAbavLIA-IJklv_PX1BWbGgxj7JPolmw/viewform?c=0&w=1)\n",
    "\n",
    "If you have any comments on this Reading Journal, feel free to leave them in the survey linked above. This could include suggestions to improve the exercises, topics you'd like to see covered in class next time, or other feedback.\n",
    "\n",
    "If you have Python questions or run into problems while completing the reading, you should post them to Piazza instead so you can get a quick response before your journal is submitted."
   ]
  },
  {
   "cell_type": "markdown",
   "metadata": {
    "feedback_response": true
   },
   "source": [
    " "
   ]
  }
 ],
 "metadata": {
  "kernelspec": {
   "display_name": "Python 2",
   "language": "python",
   "name": "python2"
  },
  "language_info": {
   "codemirror_mode": {
    "name": "ipython",
    "version": 2
   },
   "file_extension": ".py",
   "mimetype": "text/x-python",
   "name": "python",
   "nbconvert_exporter": "python",
   "pygments_lexer": "ipython2",
   "version": "2.7.10"
  }
 },
 "nbformat": 4,
 "nbformat_minor": 0
}
