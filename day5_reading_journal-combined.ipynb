{
 "cells": [
  {
   "cell_type": "markdown",
   "metadata": {},
   "source": [
    "# Day 5 Reading Journal – Responses"
   ]
  },
  {
   "cell_type": "markdown",
   "metadata": {
    "is_question": true,
    "problem": "Section 4.3"
   },
   "source": [
    "### Chapter 4.3\n",
    "Work through exercises 1-5 in Chapter 4.3, creating the `square`, `polygon`, `circle`, and `arc` functions. You can reference Allen's solutions, but please try the problems on your own first."
   ]
  },
  {
   "cell_type": "code",
   "execution_count": null,
   "metadata": {
    "collapsed": false,
    "solution": "Section 4.3"
   },
   "outputs": [],
   "source": [
    "import turtle\n",
    "\n",
    "def square(t):\n",
    "    for _ in range(4):\n",
    "        t.fd(100)\n",
    "        t.lt(90)\n",
    "\n",
    "bob = turtle.Turtle()\n",
    "\n",
    "square(bob)\n",
    "turtle.mainloop()"
   ]
  },
  {
   "cell_type": "code",
   "execution_count": 25,
   "metadata": {
    "collapsed": false,
    "solution": "Section 4.3"
   },
   "outputs": [],
   "source": [
    "# This parameterizes the length of the side, so that the same function can draw different size squares.\n",
    "\n",
    "import turtle\n",
    "\n",
    "def square(t, size=100):\n",
    "    for side in range(4):\n",
    "        t.fd(size)\n",
    "        t.lt(90)\n",
    "\n",
    "bob = turtle.Turtle()\n",
    "\n",
    "square(bob)"
   ]
  },
  {
   "cell_type": "code",
   "execution_count": 29,
   "metadata": {
    "collapsed": false,
    "solution": "Section 4.3"
   },
   "outputs": [],
   "source": [
    "# This further parameterizes the number of sides\n",
    "\n",
    "import turtle\n",
    "\n",
    "def polygon(t, sides, size):\n",
    "    angle = 360 / sides\n",
    "    for _ in range(sides):\n",
    "        t.fd(size)\n",
    "        t.lt(angle)\n",
    "\n",
    "def square(t, size):\n",
    "    polygon(t, 4, size)\n",
    "\n",
    "bob = turtle.Turtle()\n",
    "\n",
    "square(bob, 100)\n",
    "polygon(bob, 3, 80)\n",
    "polygon(bob, 5, 80)"
   ]
  },
  {
   "cell_type": "code",
   "execution_count": 52,
   "metadata": {
    "collapsed": false
   },
   "outputs": [
    {
     "name": "stdout",
     "output_type": "stream",
     "text": [
      "steps 180\n",
      "length 1.7453292519943295\n",
      "left 1.0\n"
     ]
    }
   ],
   "source": [
    "import math\n",
    "\n",
    "def circle(t, r):\n",
    "    steps = 100\n",
    "    arc_length = 2 * math.pi * r / steps\n",
    "    for _ in range(steps):\n",
    "        t.fd(arc_length)\n",
    "        t.lt(360 / steps)\n",
    "\n",
    "def arc(t, r, angle):\n",
    "    steps = max(1, int(360 * angle / 360))\n",
    "    arc_length = 2 * math.pi * r * angle / 360 / steps\n",
    "\n",
    "    for _ in range(steps):\n",
    "        pass\n",
    "        t.fd(arc_length)\n",
    "        t.lt(angle / steps)\n",
    "\n",
    "\n",
    "import turtle\n",
    "t = turtle.Turtle()\n",
    "circle(t, 50)\n",
    "arc(t, 100, 180)"
   ]
  },
  {
   "cell_type": "markdown",
   "metadata": {
    "is_question": true,
    "problem": "More fun"
   },
   "source": [
    "### Chapter 4.12\n",
    "#### More fun with Turtles!\n",
    "Complete at least one of Exercise 2, 3, 4, or 5. If you come up with some cool drawings you'd like to share with the rest of the class, let us know!"
   ]
  },
  {
   "cell_type": "markdown",
   "metadata": {},
   "source": [
    "There were many cool entries here. This notebook didn't show them off well. I'm going to see if I can find a better way to display them."
   ]
  }
 ],
 "metadata": {
  "anaconda-cloud": {},
  "kernelspec": {
   "display_name": "Python [default]",
   "language": "python",
   "name": "python3"
  },
  "language_info": {
   "codemirror_mode": {
    "name": "ipython",
    "version": 3
   },
   "file_extension": ".py",
   "mimetype": "text/x-python",
   "name": "python",
   "nbconvert_exporter": "python",
   "pygments_lexer": "ipython3",
   "version": "3.5.2"
  }
 },
 "nbformat": 4,
 "nbformat_minor": 0
}
