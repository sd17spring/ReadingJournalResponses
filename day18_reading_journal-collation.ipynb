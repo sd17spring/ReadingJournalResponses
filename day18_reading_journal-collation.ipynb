{
 "cells": [
  {
   "cell_type": "markdown",
   "metadata": {
    "is_question": true,
    "problem": "Exercise 19.1"
   },
   "source": [
    "### Exercise 1  \n",
    "\n",
    "Rewrite the following functions using list comprehensions."
   ]
  },
  {
   "cell_type": "code",
   "execution_count": 3,
   "metadata": {
    "collapsed": false,
    "solution": "Exercise 19.1"
   },
   "outputs": [],
   "source": [
    "def square(seq):\n",
    "    \"\"\"\n",
    "    Return a new list containing all the elements of 'seq'uence squared.\n",
    "    \n",
    "    >>> square([1, 2, 3])\n",
    "    [1, 4, 9]\n",
    "    >>> square([0, -5, 2.5])\n",
    "    [0, 25, 6.25]\n",
    "    >>> square([8, \"hello\", 10])\n",
    "    Traceback (most recent call last):\n",
    "      ...\n",
    "    TypeError: unsupported operand type(s) for ** or pow(): 'str' and 'int'\n",
    "    \"\"\"\n",
    "    return [s**2 for s in seq]\n",
    "\n",
    "def evens(seq):\n",
    "    \"\"\"\n",
    "    Return a new list containing only the elements of 'seq'uence that are even.\n",
    "    \n",
    "    >>> evens([1, 2, 3, 4])\n",
    "    [2, 4]\n",
    "    >>> evens(square(range(5)))\n",
    "    [0, 4, 16]\n",
    "    \"\"\"\n",
    "    return [x for x in seq if x % 2 == 0]\n",
    "\n",
    "\n",
    "import doctest\n",
    "doctest.testmod()\n",
    "        "
   ]
  },
  {
   "cell_type": "code",
   "execution_count": 19,
   "metadata": {
    "collapsed": false,
    "solution": "Exercise 19.1"
   },
   "outputs": [],
   "source": [
    "# def square(seq):\n",
    "\"\"\"\n",
    "Return a new list containing all the elements of 'seq'uence squared.\n",
    "\n",
    ">>> square([1, 2, 3])\n",
    "[1, 4, 9]\n",
    ">>> square([0, -5, 2.5])\n",
    "[0, 25, 6.25]\n",
    ">>> square([8, \"hello\", 10])\n",
    "Traceback (most recent call last):\n",
    "  ...\n",
    "TypeError: unsupported operand type(s) for ** or pow(): 'str' and 'int'\n",
    "\"\"\"\n",
    "#     result = []\n",
    "#     for item in seq:\n",
    "#         squared_value = item **2\n",
    "#         result.append(squared_value)\n",
    "\n",
    "\n",
    "def square(seq): \n",
    "    squarenum = []\n",
    "    return [squarenum.append(item**2) for item in seq]\n",
    "\n",
    "\n",
    "\n",
    "#def evens(seq):\n",
    "\"\"\"\n",
    "Return a new list containing only the elements of 'seq'uence that are even.\n",
    "\n",
    ">>> evens([1, 2, 3, 4])\n",
    "[2, 4]\n",
    ">>> evens(square(range(5)))\n",
    "[0, 4, 16]\n",
    "\"\"\"\n",
    "#     result = []\n",
    "#     for item in seq:\n",
    "#         if item % 2 == 0:\n",
    "#             result.append(item)\n",
    "#     return result\n",
    "\n",
    "def evens(seq):\n",
    "    evennum = []\n",
    "    return [evennum.append(item) for item in seq if item % 2 == 0]\n",
    "\n",
    "\n",
    "import doctest\n",
    "doctest.testmod()\n",
    "        "
   ]
  },
  {
   "cell_type": "markdown",
   "metadata": {
    "is_question": true,
    "problem": "Exercise 19.2"
   },
   "source": [
    "### Exercise 2 \n",
    "\n",
    "Complete the following function using an exception handler. How else might you implement it?"
   ]
  },
  {
   "cell_type": "code",
   "execution_count": 20,
   "metadata": {
    "collapsed": false,
    "solution": "Exercise 19.2"
   },
   "outputs": [],
   "source": [
    "names = {\"Paul\": \"Ruvolo\", \"Oliver\": \"Steele\", \"Ben\": \"Hill\"}\n",
    "\n",
    "def formal_greeting(first_name, name_dict):\n",
    "    \"\"\"\n",
    "    Greet SoftDes professors by last name, and strangers with some skepticism.\n",
    "    \n",
    "    >>> formal_greeting(\"Oliver\", names)\n",
    "    Hello, Professor Steele!\n",
    "    >>> formal_greeting(\"Jasper\", names)\n",
    "    Howdy, stranger!\n",
    "    \"\"\"\n",
    "    try:\n",
    "        print (\"Hello, Professor \" + name_dict[first_name] + \"!\")\n",
    "    except:\n",
    "        print (\"Howdy, stranger!\")\n",
    "\n",
    "doctest.run_docstring_examples(formal_greeting, globals())    \n",
    "\n",
    "#---\n",
    "#Good work, but try to avoid using exception handlers that catch everything.\n",
    "#It makes it harder to identify other errors down the road. For example, here you would only expect a KeyError"
   ]
  },
  {
   "cell_type": "code",
   "execution_count": 15,
   "metadata": {
    "collapsed": false,
    "solution": "Exercise 19.2"
   },
   "outputs": [],
   "source": [
    "names = {\"Paul\": \"Ruvolo\", \"Oliver\": \"Steele\", \"Ben\": \"Hill\"}\n",
    "\n",
    "def formal_greeting(first_name, name_dict):\n",
    "    \"\"\"\n",
    "    Greet SoftDes professors by last name, and strangers with some skepticism.\n",
    "    \n",
    "    >>> formal_greeting(\"Oliver\", names)\n",
    "    Hello, Professor Steele!\n",
    "    >>> formal_greeting(\"Jasper\", names)\n",
    "    Howdy, stranger!\n",
    "    \"\"\"\n",
    "    try:  \n",
    "        f_n = name_dict[first_name]\n",
    "        print(\"Hello, Professor %s!\" % f_n)\n",
    "    except(KeyError):\n",
    "        print('Howdy, stranger!')\n",
    "\n",
    "doctest.run_docstring_examples(formal_greeting, globals())    "
   ]
  },
  {
   "cell_type": "code",
   "execution_count": 12,
   "metadata": {
    "collapsed": false,
    "solution": "Exercise 19.2"
   },
   "outputs": [],
   "source": [
    "names = {\"Paul\": \"Ruvolo\", \"Oliver\": \"Steele\", \"Ben\": \"Hill\"}\n",
    "\n",
    "def formal_greeting(first_name, name_dict):\n",
    "    \"\"\"\n",
    "    Greet SoftDes professors by last name, and strangers with some skepticism.\n",
    "    \n",
    "    >>> formal_greeting(\"Oliver\", names)\n",
    "    Hello, Professor Steele!\n",
    "    >>> formal_greeting(\"Jasper\", names)\n",
    "    Howdy, stranger!\n",
    "    \"\"\"\n",
    "    try:\n",
    "        print(\"Hello, Professor {}!\".format(name_dict[first_name]))\n",
    "    except (KeyError):\n",
    "        print(\"Howdy, stranger!\")\n",
    "    \n",
    "\n",
    "doctest.run_docstring_examples(formal_greeting, globals(), verbose=True)    "
   ]
  },
  {
   "cell_type": "markdown",
   "metadata": {
    "feedback_response": true,
    "solution": "Feedback"
   },
   "source": [
    " "
   ]
  }
 ],
 "metadata": {
  "kernelspec": {
   "display_name": "Python 2",
   "language": "python",
   "name": "python2"
  },
  "language_info": {
   "codemirror_mode": {
    "name": "ipython",
    "version": 2
   },
   "file_extension": ".py",
   "mimetype": "text/x-python",
   "name": "python",
   "nbconvert_exporter": "python",
   "pygments_lexer": "ipython2",
   "version": "2.7.10"
  }
 },
 "nbformat": 4,
 "nbformat_minor": 0
}
