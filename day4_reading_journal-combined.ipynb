{
 "cells": [
  {
   "cell_type": "markdown",
   "metadata": {},
   "source": [
    "# Day 4 Reading Journal – Responses"
   ]
  },
  {
   "cell_type": "markdown",
   "metadata": {},
   "source": [
    "### Exercise 10.3 \n",
    "Write a function called `middle` that takes a list and returns a new list that contains all but the first and last elements. So `middle([1,2,3,4])` should return `[2,3]`."
   ]
  },
  {
   "cell_type": "code",
   "execution_count": 6,
   "metadata": {
    "collapsed": false
   },
   "outputs": [],
   "source": [
    "import doctest\n",
    "\n",
    "def middle(lis):\n",
    "    '''\n",
    "    Takes a list 'lis' and returns a copy of the list with the first and last elements removed\n",
    "    >>> middle([1,2,3,4])\n",
    "    [2, 3]\n",
    "    '''\n",
    "    \n",
    "    return lis[1:len(lis)-1]\n",
    "   \n",
    "doctest.testmod()"
   ]
  },
  {
   "cell_type": "markdown",
   "metadata": {},
   "source": [
    "Kudos for documentation!\n",
    "\n",
    "`lis[1:len(lis)-1]` can be abbreviated `lis[1:-1]`. A negative number as a list index, indexes backwards from the end of the list. For example:"
   ]
  },
  {
   "cell_type": "code",
   "execution_count": 1,
   "metadata": {
    "collapsed": false
   },
   "outputs": [
    {
     "name": "stdout",
     "output_type": "stream",
     "text": [
      "lis[-1] = 4\n",
      "s[-1] =  o\n"
     ]
    }
   ],
   "source": [
    "lis = [1, 2, 3, 4]\n",
    "print('lis[-1] =', lis[-1])\n",
    "\n",
    "s = \"Hello\"\n",
    "print('s[-1] = ', s[-1])"
   ]
  },
  {
   "cell_type": "code",
   "execution_count": 2,
   "metadata": {
    "collapsed": false,
    "deletable": true,
    "editable": true
   },
   "outputs": [],
   "source": [
    "def middle (list):\n",
    "    a=len(list)\n",
    "    new_list=list[1:a-1] #we included 1 to exclude 0, or the first number, and if the list continues on,then we just need to subtract 1 from the list\n",
    "    return new_list\n",
    "\n",
    "middle ([1,2,3,4])"
   ]
  },
  {
   "cell_type": "markdown",
   "metadata": {},
   "source": [
    "This is similar to the first solution, but with a temporary variable to hold the length of the list.\n",
    "\n",
    "Whether to use a temporary variable here is a judgement call. On the plus side, it makes it easier to debug while you're developing the code.\n",
    "\n",
    "Improvements:\n",
    "* [Python style](https://www.python.org/dev/peps/pep-0008/) is to surround operators by spaces: `a = len(list)`, `new_list = list[1:a - 1]`\n",
    "* Choose a different name from `list`. (`lst` is conventional.) `list` is a Python global. The `list` parameter to `middle` hides this from code inside `middle`."
   ]
  },
  {
   "cell_type": "code",
   "execution_count": null,
   "metadata": {
    "collapsed": true
   },
   "outputs": [],
   "source": [
    "def middle(l):\n",
    "    return l[1:-1]"
   ]
  },
  {
   "cell_type": "markdown",
   "metadata": {},
   "source": [
    "Short and to the point."
   ]
  },
  {
   "cell_type": "code",
   "execution_count": 3,
   "metadata": {
    "collapsed": false
   },
   "outputs": [],
   "source": [
    "def middle(myList):\n",
    "    return myList[1:-1]\n",
    "\n",
    "print(middle([1,2,3,4]))"
   ]
  },
  {
   "cell_type": "markdown",
   "metadata": {},
   "source": [
    "Almost as short, but `myList` makes it easier to read what the function does even in the absence of a doc string, and the `print` lines shows that what it does and that it's been tested."
   ]
  },
  {
   "cell_type": "code",
   "execution_count": 9,
   "metadata": {
    "collapsed": false
   },
   "outputs": [],
   "source": [
    "def middle(items):\n",
    "    \"\"\"\n",
    "    Removes first and last item in a list\n",
    "    Returns modified list\n",
    "    >>> middle([1,2,3,4,5])\n",
    "    [2, 3, 4]\n",
    "    \"\"\"\n",
    "    del items[0]\n",
    "    del items[len(items)-1]\n",
    "    return items\n",
    "\n",
    "\n",
    "import doctest\n",
    "doctest.testmod(verbose=True)"
   ]
  },
  {
   "cell_type": "markdown",
   "metadata": {},
   "source": [
    "This deviates from the instructions in that it returns the existing list instead of creating a new list.\n",
    "\n",
    "How could the doc tests be extended to test whether the function returns a *new* list?"
   ]
  },
  {
   "cell_type": "code",
   "execution_count": 13,
   "metadata": {
    "collapsed": false
   },
   "outputs": [],
   "source": [
    "def middle(l):\n",
    "    \n",
    "    if len(l) is 2:\n",
    "        return None\n",
    "    elif len(l):\n",
    "        return(l[1:len(l)-1])\n",
    "\n",
    "\n",
    "print(middle([1,2,3,4]))\n",
    "print(middle([1, 2, 3, 4, 5, 6]))\n",
    "print(middle([0, 1, 2, 3, 4, 5]))\n",
    "print(middle([1,2,3,4,45]))\n",
    "print(middle([1,2]))\n",
    "print(middle([1,2,3]))"
   ]
  },
  {
   "cell_type": "code",
   "execution_count": 14,
   "metadata": {
    "collapsed": false
   },
   "outputs": [],
   "source": [
    "def middle(list):\n",
    "    '''\n",
    "        DEFINITION: returns a string with all elements except the first and the last that were in the previous list.\n",
    "        ARGUMENTS:\n",
    "            list: list of objects\n",
    "        RETURNS: list of objects without the first and last objects\n",
    "        \n",
    "        >>> middle([1,2,3,4])\n",
    "        [2, 3]\n",
    "        >>> middle([1,2,4])\n",
    "        [2]\n",
    "        >>> middle([1,4])\n",
    "        []\n",
    "        >>> middle([])\n",
    "        []\n",
    "        '''\n",
    "    newlist = []\n",
    "    if(len(list)>2):\n",
    "        newlist = list[1:-1]\n",
    "    return newlist\n",
    "\n",
    "import doctest\n",
    "doctest.run_docstring_examples(middle, globals(), verbose=True)"
   ]
  },
  {
   "cell_type": "markdown",
   "metadata": {},
   "source": [
    "An excellent set of test cases.\n",
    "\n",
    "Each programming language has conventions about how to document a functions parameters and return value.\n",
    "This has the right information in a non-Python accent. [This document](https://www.python.org/dev/peps/pep-0257/#multi-line-docstrings) shows the convention for Python. [Relevant xkcd](https://xkcd.com/927/)."
   ]
  },
  {
   "cell_type": "markdown",
   "metadata": {},
   "source": [
    "### Exercise 10.4 \n",
    "Write a function called `chop` that takes a list, modifies it by removing the first and last elements, and returns `None`.\n",
    "\n",
    "What is the difference between `middle` and `chop`? Sketch out the program state or take a look at each in Python Tutor and answer the question in the Markdown cell below."
   ]
  },
  {
   "cell_type": "code",
   "execution_count": 28,
   "metadata": {
    "collapsed": false
   },
   "outputs": [],
   "source": [
    "def chop(items):\n",
    "    \"\"\"\n",
    "    Removes first and last item in a list\n",
    "    Returns None\n",
    "    \n",
    "    >>> chop([1,2,3,4,5])\n",
    "    \n",
    "    \"\"\"\n",
    "    del items[0]\n",
    "    del items[len(items)-1]\n",
    "    return None\n",
    "\n",
    "import doctest\n",
    "doctest.testmod(verbose=True)"
   ]
  },
  {
   "cell_type": "markdown",
   "metadata": {},
   "source": [
    "This is correct. It removes the first and last element.\n",
    "\n",
    "`return None` is unnecessary but harmless. A function without an explicit return value, implicitly return `None`.\n",
    "\n",
    "In this case I might `return None` as this code does, to make explicit the match between the code, and what the instructions ask for.\n",
    "\n",
    "In general, a function that is executed \"for effect\" (it modifies its arguments or other non-local values) is often assumed to be fruitless, and you wouldn't return `None`.\n",
    "\n",
    "What does `chop([1])` do? What *should* it do?"
   ]
  },
  {
   "cell_type": "code",
   "execution_count": null,
   "metadata": {
    "collapsed": false
   },
   "outputs": [],
   "source": [
    "def chop(lis):\n",
    "    lis = lis[1:len(lis)-1]"
   ]
  },
  {
   "cell_type": "markdown",
   "metadata": {},
   "source": [
    "Function parameters such as `lis` are variables that are local to the function – assignments to them change the value of the variable, but don't change what's going on outside the function.\n",
    "\n",
    "This is a problem for code that uses the above definition as in:\n",
    "\n",
    "    evens = [2, 4, 6, 8]\n",
    "    chop(evens)\n",
    "\n",
    "It means that `evens` after all this is done still has the value `[2, 4, 6, 8]` – chop changed the value of `lis` (into a new list), but it didn't modify the list itself. "
   ]
  },
  {
   "cell_type": "code",
   "execution_count": 4,
   "metadata": {
    "collapsed": false
   },
   "outputs": [],
   "source": [
    "def chop(oldList):\n",
    "    oldList = oldList[1:(len(oldList)-1)]\n",
    "    return 'None'\n",
    "\n",
    "middle([1, 2, 3, 4])"
   ]
  },
  {
   "cell_type": "markdown",
   "metadata": {},
   "source": [
    "Be careful of the distinction between the special value `None`, and the string `\"None\"`.\n",
    "\n",
    "(Also `False` versus `\"False\"`.)"
   ]
  },
  {
   "cell_type": "code",
   "execution_count": 16,
   "metadata": {
    "collapsed": false
   },
   "outputs": [],
   "source": [
    "def chop(l):\n",
    "    del l[0]\n",
    "    del l[len(l)-1]\n",
    "\n",
    "    return None\n",
    "\n",
    "print(chop([1,2,3,4]))\n",
    "print(chop([1, 2, 3, 4, 5, 6]))\n",
    "print(chop([0, 1, 2, 3, 4, 5]))\n",
    "print(chop([1,2,3,4,45]))\n",
    "print(chop([1,2]))\n",
    "print(chop([1,2,3]))"
   ]
  },
  {
   "cell_type": "markdown",
   "metadata": {},
   "source": [
    "A good set of test cases. I would also test the extreme: `chop([])`."
   ]
  },
  {
   "cell_type": "code",
   "execution_count": 47,
   "metadata": {
    "collapsed": false
   },
   "outputs": [],
   "source": [
    "\n",
    "\n",
    "def chop(x):\n",
    "    \"\"\"\n",
    "    This function should accept list x and remove the first and last terms. it returns None\n",
    "    \n",
    "    >>> chop([1, 2, 3, 4])\n",
    "    None\n",
    "    \"\"\"\n",
    "    x.pop(0)\n",
    "    x.pop(len(x)-1)\n",
    "    return None\n",
    "\n",
    "\n",
    "v = [1, 2, 3, 4, 5]\n",
    "chop(v)\n",
    "print(v)"
   ]
  },
  {
   "cell_type": "markdown",
   "metadata": {},
   "source": [
    "`lst.pop(i)` is an alternative to `del lst[i]`. Unlike `del`, `pop` is a function, that returns the removed item - although that isn't used here.\n",
    "\n"
   ]
  },
  {
   "cell_type": "code",
   "execution_count": 9,
   "metadata": {
    "collapsed": false
   },
   "outputs": [],
   "source": [
    "def chop(list):\n",
    "    list.remove(list[0])\n",
    "    list.remove(list[len(list)-1])\n",
    "    return None"
   ]
  },
  {
   "cell_type": "markdown",
   "metadata": {},
   "source": [
    "`lst.remove(n)` removes by value, instead of position. It removes the first *n* in *lst*.\n",
    "\n",
    "Questions:\n",
    "* For what values of `[1, 2, 3, 2]` is `lst.remove(lst[i])` *not* equivalent to `lst.pop(i)`?\n",
    "* Given this, what's a test value that breaks the above definition of `chop`?"
   ]
  },
  {
   "cell_type": "code",
   "execution_count": 11,
   "metadata": {
    "collapsed": false
   },
   "outputs": [],
   "source": [
    "def chop (strand):\n",
    "    del strand[0]\n",
    "    del strand[-1]\n",
    "    return (strand)\n",
    "chop ([1,2,3,4,5,6,7])\n",
    "\n",
    "#The difference between middle and chop is that in middle, you are not\n",
    "#making modifications to the string in any way. Alternatively, in chop,\n",
    "#you are modifying the string. This means that if you have to reference\n",
    "#the string later on, the input will not be the same. This can be good\n",
    "#or bad depending on your application. While middle is a fruitful\n",
    "#function, chop merely modifies an input."
   ]
  },
  {
   "cell_type": "markdown",
   "metadata": {},
   "source": [
    "Thumbs up on the explanation."
   ]
  },
  {
   "cell_type": "markdown",
   "metadata": {},
   "source": [
    "### Exercise 10.6 \n",
    "Two words are anagrams if you can rearrange the letters from one to spell the other. Write a function called `is_anagram` that takes two strings and returns `True` if they are anagrams."
   ]
  },
  {
   "cell_type": "code",
   "execution_count": 16,
   "metadata": {
    "collapsed": false
   },
   "outputs": [],
   "source": [
    "import doctest\n",
    "\n",
    "def is_anagram(str1, str2):\n",
    "    \"\"\"Takes two strings and returns true if they are anagrams of one another.\n",
    "    \n",
    "    >>> is_anagram(\"anagram\",\"nag a ram\")\n",
    "    True\n",
    "    >>> is_anagram(\"aaaaa\", \"abbbb\")\n",
    "    False\n",
    "    \"\"\"\n",
    "    for c in str1:\n",
    "        if str2.find(str1[i]) == -1:\n",
    "            return False\n",
    "        str2 = str2.replace(str1[i], '', 1)\n",
    "    return True\n",
    "\n",
    "doctest.testmod()"
   ]
  },
  {
   "cell_type": "markdown",
   "metadata": {},
   "source": [
    "This verifies that each letter in `str1` is present in `str2`. It also \"uses up\" the letters in `str2`, so that a letter that occurs twice in `str1` has to be used twice in `str2`, and so on.\n",
    "\n",
    "The last line should return `str2 == ''` or `not str2` instead of `True`. Can you see why, and write a test case that demonstrates this?"
   ]
  },
  {
   "cell_type": "code",
   "execution_count": 13,
   "metadata": {
    "collapsed": false,
    "deletable": true,
    "editable": true
   },
   "outputs": [],
   "source": [
    "def is_anagram(word1, word2):\n",
    "    listA = list(word1)\n",
    "    listB = list(word2)\n",
    "    listA.sort()\n",
    "    listB.sort()\n",
    "    if listA == listB:\n",
    "        return True \n",
    "    else:\n",
    "        return False\n",
    "\n",
    "is_anagram(\"bananab\", \"ananabb\")"
   ]
  },
  {
   "cell_type": "markdown",
   "metadata": {},
   "source": [
    "Sometimes it's easier to \"normalize\" two values and then compare the normalized values for equality. This solutions uses the fact that there's a \"normal form\" for a string, for anagram purposes: the sorted list of its letters.\n",
    "\n",
    "The last statement could be simply `return listA == listB`. In general, `if test: return True else: return False` and `if test: return False else: return True` can be replaced by `return test` and `return not test`, respectively.\n",
    "\n",
    "The following function uses this fact. It also uses `sorted`, which is the fruitful version of `list.sort` – `sorted(lst)` does *not* modify `lst`, and *does* return a value. (How does this compare to the `middle` and `chomp`, above?"
   ]
  },
  {
   "cell_type": "code",
   "execution_count": null,
   "metadata": {
    "collapsed": false
   },
   "outputs": [],
   "source": [
    "def is_anagram(word1, word2):\n",
    "    listA = list(word1)\n",
    "    listB = list(word2)\n",
    "    return sorted(listA) == sorted(listB):\n",
    "\n",
    "is_anagram(\"bananab\", \"ananabb\")"
   ]
  },
  {
   "cell_type": "markdown",
   "metadata": {},
   "source": [
    "Since `listA` and `listB` are only used once, we can use the values that they're initialized with instead."
   ]
  },
  {
   "cell_type": "code",
   "execution_count": null,
   "metadata": {
    "collapsed": true
   },
   "outputs": [],
   "source": [
    "def is_anagram(word1, word2):\n",
    "    return sorted(list(word1)) == sorted(list(word2)):\n",
    "\n",
    "is_anagram(\"bananab\", \"ananabb\")"
   ]
  },
  {
   "cell_type": "markdown",
   "metadata": {},
   "source": [
    "### Exercise 10.8  \n",
    "The (so-called) Birthday Paradox: <br /><br />\n",
    "1\\. Write a function called `has_duplicates` that takes a list and returns `True` if there is any element that appears more than once. It should not modify the original list."
   ]
  },
  {
   "cell_type": "markdown",
   "metadata": {},
   "source": [
    "### Solutions\n",
    "\n",
    "There were a variety of different strategies, many of which were new to me."
   ]
  },
  {
   "cell_type": "code",
   "execution_count": 17,
   "metadata": {
    "collapsed": false
   },
   "outputs": [],
   "source": [
    "def has_duplicates(lst):\n",
    "    \"\"\"Return true iff lst contains duplicate elements.\n",
    "    \n",
    "    >>> has_duplicates([])\n",
    "    False\n",
    "    >>> has_duplicates([1])\n",
    "    False\n",
    "    >>> has_duplicates([1, 2])\n",
    "    False\n",
    "    >>> has_duplicates([1, 2, 1])\n",
    "    True\n",
    "    \"\"\"\n",
    "    for i in range(len(lst)):\n",
    "        for j in range(i + 1, len(lst)):\n",
    "            if lst[i] == lst[j]:\n",
    "                return True\n",
    "    return False\n",
    "\n",
    "import doctest\n",
    "doctest.run_docstring_examples(has_duplicates, globals())"
   ]
  },
  {
   "cell_type": "code",
   "execution_count": 20,
   "metadata": {
    "collapsed": false,
    "editable": true
   },
   "outputs": [],
   "source": [
    "def has_duplicates(lst):\n",
    "    lst = sorted(lst)\n",
    "    for i in range(1, len(lst)):\n",
    "        if lst[i - 1] == lst[i]:\n",
    "            return True\n",
    "    return False\n",
    "\n",
    "# or, using list comprehensions:\n",
    "def has_duplicates(lst):\n",
    "    lst = sorted(lst)\n",
    "    return any(lst[i - 1] == lst[i] for i in range(1, len(lst)))\n",
    "\n",
    "def has_duplicates(lst):\n",
    "    lst = sorted(lst)\n",
    "    return any(a == b for a, b, in zip(lst[1:], lst[:1]))"
   ]
  },
  {
   "cell_type": "code",
   "execution_count": null,
   "metadata": {
    "collapsed": true
   },
   "outputs": [],
   "source": [
    "def has_duplicates(lst):\n",
    "    seen = set()\n",
    "    for item in lst:\n",
    "        if lst in seen:\n",
    "            return True\n",
    "        seen.add(lst)\n",
    "    return False"
   ]
  },
  {
   "cell_type": "code",
   "execution_count": 28,
   "metadata": {
    "collapsed": false
   },
   "outputs": [],
   "source": [
    "def has_duplicates(lst):\n",
    "    for i, x in enumerate(lst):\n",
    "        if x in lst[i + 1:]:\n",
    "            return True\n",
    "    return False"
   ]
  },
  {
   "cell_type": "code",
   "execution_count": 24,
   "metadata": {
    "collapsed": false
   },
   "outputs": [],
   "source": [
    "def has_duplicates(seq):\n",
    "    seen = set()\n",
    "    seen_twice = {x for x in seq if x in seen or seen.add(x)}\n",
    "    return bool(seen_twice)\n",
    "\n",
    "has_duplicates([1,2,3,2,1,5,6,5,5,5])\n",
    "\n",
    "# Learned from a post by user Ritesh Kumar on stackoverflow.com"
   ]
  },
  {
   "cell_type": "markdown",
   "metadata": {},
   "source": [
    "Kudos for finding this, and for appropriate use of attribution.\n",
    "\n",
    "I modified the last line to return a boolean instead of a list of seen elements."
   ]
  },
  {
   "cell_type": "code",
   "execution_count": 17,
   "metadata": {
    "collapsed": false
   },
   "outputs": [],
   "source": [
    "import collections\n",
    "\n",
    "def has_duplicates(l):\n",
    "    return collections.Counter(l) != collections.Counter(set(l))\n",
    "\n",
    "has_duplicates([1,2,5,4])"
   ]
  },
  {
   "cell_type": "code",
   "execution_count": 20,
   "metadata": {
    "collapsed": false
   },
   "outputs": [],
   "source": [
    "def has_duplicates(myList):\n",
    "    for x in myList:\n",
    "        if myList.count(x) != 1:\n",
    "            return True\n",
    "    return False\n",
    "\n",
    "print(has_duplicates(['a','a','b']))"
   ]
  },
  {
   "cell_type": "markdown",
   "metadata": {},
   "source": [
    "### Part 2\n",
    "\n",
    "2\\. If there are 23 students in your class, what are the chances that two of you have the same birthday? Put your answer in the Markdown cell below. You can estimate this probability by generating random samples of 23 birthdays and checking for matches. Hint: you can generate random birthdays with the randint function from the [random module](https://docs.python.org/2/library/random.html).\n",
    "\n",
    "You can read about this problem at http://en.wikipedia.org/wiki/Birthday_paradox, and you can download Allen's solution from http://greenteapress.com/thinkpython2/code/birthday.py."
   ]
  },
  {
   "cell_type": "code",
   "execution_count": 42,
   "metadata": {
    "collapsed": false
   },
   "outputs": [
    {
     "name": "stdout",
     "output_type": "stream",
     "text": [
      "0.511\n"
     ]
    }
   ],
   "source": [
    "import random\n",
    "\n",
    "def generate_birthdays(num):\n",
    "    days = [0] * num\n",
    "    for i in range(num):\n",
    "        days[i] = random.randint(1, 365)\n",
    "    return(days)\n",
    "\n",
    "def estimate_probability(student_count, trials):\n",
    "    positives = 0\n",
    "    for _ in range(trials):\n",
    "        if has_duplicates(generate_birthdays(student_count)):\n",
    "            positives += 1\n",
    "    return positives / trials\n",
    "\n",
    "print(estimate_probability(23, 1000))"
   ]
  },
  {
   "cell_type": "code",
   "execution_count": 45,
   "metadata": {
    "collapsed": false
   },
   "outputs": [
    {
     "name": "stdout",
     "output_type": "stream",
     "text": [
      "0.519\n"
     ]
    }
   ],
   "source": [
    "# using comprehension and a nested function\n",
    "\n",
    "import random\n",
    "\n",
    "def generate_birthdays(num):\n",
    "    return [random.randint(1, 365) for i in range(num)]\n",
    "                           \n",
    "def estimate_probability(student_count, trials):\n",
    "    def trial():\n",
    "       return has_duplicates(generate_birthdays(student_count))\n",
    "\n",
    "    return sum(trial() for _ in range(trials)) / trials\n",
    "\n",
    "print(estimate_probability(23, 1000))"
   ]
  }
 ],
 "metadata": {
  "anaconda-cloud": {},
  "kernelspec": {
   "display_name": "Python [default]",
   "language": "python",
   "name": "python3"
  },
  "language_info": {
   "codemirror_mode": {
    "name": "ipython",
    "version": 3
   },
   "file_extension": ".py",
   "mimetype": "text/x-python",
   "name": "python",
   "nbconvert_exporter": "python",
   "pygments_lexer": "ipython3",
   "version": "3.5.2"
  }
 },
 "nbformat": 4,
 "nbformat_minor": 0
}
