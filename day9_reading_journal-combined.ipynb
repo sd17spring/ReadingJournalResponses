{
 "cells": [
  {
   "cell_type": "markdown",
   "metadata": {
    "is_question": true,
    "problem": "Exercise 16.2"
   },
   "source": [
    "### Chapter 16.1\n",
    "\n",
    "Write a boolean function called `is_after` that takes two `Time` objects, `t1` and `t2`, and returns `True` if `t1` follows `t2` chronologically and `False` otherwise. Challenge: don’t use an `if` statement. "
   ]
  },
  {
   "cell_type": "code",
   "execution_count": 11,
   "metadata": {
    "collapsed": false,
    "solution": "Exercise 16.2"
   },
   "outputs": [],
   "source": [
    "class Time(object):\n",
    "    def __init__(self,hour,minute,second):\n",
    "        self.h = hour\n",
    "        self.m = minute\n",
    "        self.s = second\n",
    "    \n",
    "    def __repr__(self):\n",
    "        return 'Time - %d:%d:%d' % (self.h, self.m, self.s)\n",
    "        \n",
    "t1 = Time(11,24,12)\n",
    "t2 = Time(5,30,45)\n",
    "print(t1)\n",
    "print(t2)\n",
    "\n",
    "def is_after(t1, t2):\n",
    "    return t1.h*3600+t1.m*60+t1.s > t2.h*3600+t2.m*60+t2.s\n",
    "\n",
    "is_after(t1,t2)"
   ]
  },
  {
   "cell_type": "code",
   "execution_count": null,
   "metadata": {
    "collapsed": true,
    "solution": "Exercise 16.2"
   },
   "outputs": [],
   "source": [
    "class Time:\n",
    "    '''\n",
    "    Represent the time of day.\n",
    "    Attribute: hour, minute, second\n",
    "    '''\n",
    "\n",
    "    def __init__(self, hour=0, minute=0, second=0):\n",
    "        '''\n",
    "        initialized a time object\n",
    "\n",
    "        hour: int\n",
    "        minute: int\n",
    "        second: int or float\n",
    "        '''\n",
    "        self.hour = hour\n",
    "        self.minute = minute\n",
    "        self.second = second\n",
    "\n",
    "    def __str__(self):\n",
    "        '''\n",
    "        returns a string representation of the time\n",
    "        '''\n",
    "        return '%.2d:%.2d:%.2d' % (self.hour, self.minute, self.second)\n",
    "\n",
    "    def print_self(self):\n",
    "        '''prints a string representation of the time'''\n",
    "        print(str(self))\n",
    "\n",
    "    def time_to_int(self):\n",
    "        '''\n",
    "        Computes the number of seconds since midnight\n",
    "        '''\n",
    "        minutes = self.hour*60 + self.minute\n",
    "        seconds = minutes * 60 + self.second\n",
    "        return seconds\n",
    "\n",
    "    def is_after(t1, t2):\n",
    "        '''\n",
    "        Returns True if t1 is after t2; false otherwise\n",
    "        t1 = self\n",
    "        t2 = other\n",
    "        '''\n",
    "        return t1.time_to_int() > t2.time_to_int"
   ]
  },
  {
   "cell_type": "code",
   "execution_count": 4,
   "metadata": {
    "collapsed": false,
    "solution": "Exercise 16.2"
   },
   "outputs": [],
   "source": [
    "class Time:\n",
    "    def __init__(self, h, m, s):\n",
    "        self.hour = h\n",
    "        self.minute = m\n",
    "        self.second = s\n",
    "    \"\"\"Represents the time of day.\n",
    "       \n",
    "    attributes: hour, minute, second\n",
    "    \"\"\"\n",
    "    \n",
    "def time_to_int(time):\n",
    "    minutes = time.hour * 60 + time.minute\n",
    "    seconds = minutes * 60 + time.second\n",
    "    return seconds\n",
    "\n",
    "def int_to_time(seconds):\n",
    "    time = Time()\n",
    "    minutes, time.second = divmod(seconds, 60)\n",
    "    time.hour, time.minute = divmod(minutes, 60)\n",
    "    return time\n",
    "\n",
    "t1 = Time(3, 43, 15)\n",
    "t2 = Time(6, 35, 52)\n",
    "\n",
    "def is_after(t1, t2):\n",
    "    t1s = time_to_int(t1)\n",
    "    t2s = time_to_int(t2)\n",
    "    return t1s < t2s\n",
    "\n",
    "print(is_after(t1, t2))"
   ]
  },
  {
   "cell_type": "code",
   "execution_count": 6,
   "metadata": {
    "collapsed": false,
    "solution": "Exercise 16.2"
   },
   "outputs": [],
   "source": [
    "class Time:\n",
    "    '''\n",
    "        DESC: represents time of day\n",
    "        ATTR:\n",
    "        hour - int - hour of day\n",
    "        min - int - minute of day\n",
    "        sec - int - second of day\n",
    "        MTHD: none\n",
    "        '''\n",
    "    hour = 0\n",
    "    min = 0\n",
    "    sec = 0\n",
    "\n",
    "t1 = Time()\n",
    "t2 = Time()\n",
    "t3 = Time()\n",
    "t3.hour = 10\n",
    "t3.min = 45\n",
    "t3.sec = 30\n",
    "\n",
    "def is_after(t1,t2):\n",
    "    '''\n",
    "        DESC: checks if a time is after another time\n",
    "        ARGS: \n",
    "        t1 - Time object - first time\n",
    "        t2 - Time object - second time\n",
    "        RTRN: boolean representing whether or not t2 is after t1\n",
    "        >>> is_after(t1,t2)\n",
    "        Times are equal!\n",
    "        >>> is_after(t2,t3)\n",
    "        True\n",
    "        >>> is_after(t3,t2)\n",
    "        False\n",
    "        '''\n",
    "    if(t1.hour > t2.hour):\n",
    "        return False\n",
    "    elif(t1.hour < t2.hour):\n",
    "        return True\n",
    "    else:\n",
    "        if(t1.min > t2.min):\n",
    "            return False\n",
    "        elif(t2.min > t2.min):\n",
    "            return True\n",
    "        else:\n",
    "            if(t1.sec > t2.sec):\n",
    "                return False\n",
    "            elif(t1.sec < t2.sec):\n",
    "                return True\n",
    "            else:\n",
    "                print(\"Times are equal!\")\n",
    "                return\n",
    "\n",
    "import doctest\n",
    "doctest.run_docstring_examples(is_after, globals(), verbose=True)\n",
    "\n",
    "#Notes------\n",
    "#Try to avoid having nested if trees. Feel free to group conditional together with the and statement"
   ]
  },
  {
   "cell_type": "code",
   "execution_count": 3,
   "metadata": {
    "collapsed": false,
    "solution": "Exercise 16.2"
   },
   "outputs": [],
   "source": [
    "class Time:\n",
    "    \"\"\" Represents time in hours minutes seconds\"\"\"\n",
    "    hour = 0\n",
    "    minute = 0\n",
    "    second = 0\n",
    "    \n",
    "t1 = Time()\n",
    "t1.hour = 3\n",
    "t1.minute = 12\n",
    "t1.second = 23\n",
    "\n",
    "t2 = Time()\n",
    "t2.hour = 4\n",
    "t2.minute = 13\n",
    "t2.second = 12\n",
    "\n",
    "def is_after(time, time2):\n",
    "    if time.hour > time2.hour:\n",
    "        return True\n",
    "    elif time.hour == time2.hour & time.minute > time2.minute:\n",
    "        return True\n",
    "    elif time.hour == time2.hour & time.minute == time2.minute & time.second > time2.second:\n",
    "        return True\n",
    "    else:\n",
    "        return False\n",
    "    \n",
    "\n",
    "is_after(t1, t2)"
   ]
  },
  {
   "cell_type": "markdown",
   "metadata": {
    "is_question": true,
    "problem": "Exercise 17.2"
   },
   "source": [
    "### Chapter 17.5\n",
    "\n",
    "Write an init method for the `Point` class that takes `x` and `y` as optional parameters and assigns them to the corresponding attributes. "
   ]
  },
  {
   "cell_type": "code",
   "execution_count": 12,
   "metadata": {
    "collapsed": false,
    "solution": "Exercise 17.2"
   },
   "outputs": [],
   "source": [
    "class Point:\n",
    "    \"\"\"\n",
    "    Represents a point with x,y value\n",
    "    \"\"\"\n",
    "    def __init__(self, x=0, y=0):\n",
    "        self.x = x\n",
    "        self.y = y\n",
    "        \n",
    "\n",
    "a = Point(1,1)\n",
    "print(a.x,\",\",a.y)"
   ]
  },
  {
   "cell_type": "code",
   "execution_count": 21,
   "metadata": {
    "collapsed": false
   },
   "outputs": [],
   "source": [
    "class Point:\n",
    "    \"represents a point in 2 dimensions\"\n",
    "    \n",
    "    def __init__(self, x, y):\n",
    "        self.x = x\n",
    "        self.y = y\n",
    "        \n",
    "    def print_coords(self):\n",
    "        print(self.x, self.y)\n",
    "        \n",
    "red = Point(2, 3)\n",
    "print_coords(red)"
   ]
  },
  {
   "cell_type": "markdown",
   "metadata": {
    "is_question": true,
    "problem": "Exercise 17.3"
   },
   "source": [
    "### Chapter 17.6 \n",
    "\n",
    "Write a str method for the `Point` class. Create a `Point` object and print it."
   ]
  },
  {
   "cell_type": "code",
   "execution_count": 4,
   "metadata": {
    "collapsed": false,
    "solution": "Exercise 17.2"
   },
   "outputs": [],
   "source": [
    "class Point:\n",
    "    \"\"\" Represents a point in R2 \"\"\"\n",
    "    \n",
    "    def __init__(self,x,y):\n",
    "        self.x = x\n",
    "        self.y = y\n",
    "    \n",
    "    def __str__(self):\n",
    "        return '(%f,%f)' % (self.x, self.y)"
   ]
  },
  {
   "cell_type": "markdown",
   "metadata": {
    "is_question": true,
    "problem": "Exercise 17.4"
   },
   "source": [
    "### Chapter 17.7  \n",
    "\n",
    "Write an add method for the `Point` class. Optional: implement operator overloading so that you can use the '+' operator."
   ]
  },
  {
   "cell_type": "code",
   "execution_count": 9,
   "metadata": {
    "collapsed": false,
    "solution": "Exercise 17.2"
   },
   "outputs": [],
   "source": [
    "class Point:\n",
    "    \"2D Point\"\n",
    "    def __init__(self, x=0, y=0):\n",
    "        self.x = x\n",
    "        self.y = y\n",
    "    def __str__(self):\n",
    "        return \"(%d, %d)\" %(self.x, self.y)\n",
    "    def __add__(self, other):\n",
    "        return Point(self.x + other.x, self.y + other.y)\n",
    "\n",
    "p1 = Point(2,3)\n",
    "p2 = Point(3,5)\n",
    "print(str(p2))\n",
    "print(str(p1+p2))"
   ]
  },
  {
   "cell_type": "code",
   "execution_count": 17,
   "metadata": {
    "collapsed": false,
    "solution": "Exercise 17.4"
   },
   "outputs": [],
   "source": [
    "class Point:\n",
    "    \"\"\"\n",
    "    Represents a point with x,y value\n",
    "    \"\"\"\n",
    "    def __init__(self, x=0, y=0):\n",
    "        self.x = x\n",
    "        self.y = y\n",
    "    def __str__(self):\n",
    "        return '%s,%s' % (self.x, self.y)\n",
    "    def __add__(self, other):\n",
    "        return Point(self.x+other.x, self.y+other.y)\n",
    "\n",
    "    \n",
    "a = Point(1,1)\n",
    "b = Point(1,1)\n",
    "c = a+b\n",
    "print(c)"
   ]
  },
  {
   "cell_type": "code",
   "execution_count": 10,
   "metadata": {
    "collapsed": false,
    "solution": "Exercise 17.4"
   },
   "outputs": [],
   "source": [
    "class Point:\n",
    "    \"\"\"represents a point in two dimensions\n",
    "    \n",
    "    attributes: x, y\"\"\"\n",
    "    def __init__(self, xnew=0, ynew=0):\n",
    "        self.x = xnew\n",
    "        self.y = ynew\n",
    "        \n",
    "    def __str__(self):\n",
    "        return '%d,%d' % (self.x, self.y)\n",
    "    \n",
    "    def __add__(self, other):\n",
    "        if isinstance(other, Point):\n",
    "            return self.add_point(other)\n",
    "    \n",
    "    def add_point(self, other):\n",
    "        return Point(self.x + other.x, self.y + other.y)\n",
    "    \n",
    "    \n",
    "john = Point(5,5)\n",
    "nancy = Point (2, -3)\n",
    "print(john + nancy)"
   ]
  },
  {
   "cell_type": "code",
   "execution_count": 10,
   "metadata": {
    "collapsed": false,
    "solution": "Exercise 17.4"
   },
   "outputs": [],
   "source": [
    "class Point():\n",
    "    def __init__(self, x = 0, y = 0):\n",
    "        self.x = x\n",
    "        self.y = y\n",
    "    \n",
    "    def __str__(self):\n",
    "        return \"%d, %d\" %(self.x, self.y)\n",
    "    \n",
    "    def add(self, x, y):\n",
    "        self.x = self.x + x\n",
    "        self.y = self.y + y\n",
    "        return \"New Position: %d, %d\" %(self.x, self.y)\n",
    "    \n",
    "    def __add__(self, other):\n",
    "        self.x = self.x + other.x\n",
    "        self.y = self.y + other.y\n",
    "        return \"New Position: %d, %d\" %(self.x, self.y)\n",
    "        \n",
    "    \n",
    "test = Point()\n",
    "point2 = Point(2,3)\n",
    "print(test + point2)"
   ]
  },
  {
   "cell_type": "code",
   "execution_count": 21,
   "metadata": {
    "collapsed": false,
    "solution": "Exercise 17.4"
   },
   "outputs": [],
   "source": [
    "class Point:\n",
    "    def __init__(self,x=0,y=0):\n",
    "        self.x = x\n",
    "        self.y = y\n",
    "        \n",
    "    def __str__(self):\n",
    "        return '({},{})'.format(self.x,self.y)\n",
    "    \n",
    "    def add(self,other):\n",
    "        newx = self.x + other.x\n",
    "        newy = self.y + other.y\n",
    "        return Point(newx,newy)\n",
    "        \n",
    "point1 = Point(1,2)\n",
    "point2 = Point(3,5)\n",
    "point3 = point1.add(point2)\n",
    "print(point1,point2,point3)\n"
   ]
  },
  {
   "cell_type": "markdown",
   "metadata": {
    "is_question": true,
    "problem": "Exercise 17.7"
   },
   "source": [
    "### Exercise 17.2\n",
    "\n",
    "This exercise is a cautionary tale about one of the most common, and difficult to find, errors in Python. Write a definition for a class named `Kangaroo` with the following methods:\n",
    "\n",
    " 1. An `__init__` method that initializes an attribute named `pouch_contents` to an empty list.\n",
    " 2. A method named `put_in_pouch` that takes an object of any type and adds it to `pouch_contents`.\n",
    " 3. A `__str__` method that returns a string representation of the `Kangaroo` object and the contents of the pouch.\n",
    "\n",
    "Test your code by creating two `Kangaroo` objects, assigning them to variables named `kanga` and `roo`, and then adding `roo` to the contents of `kanga`’s pouch.\n",
    "\n",
    "Download http://greenteapress.com/thinkpython2/code/BadKangaroo.py. It contains a solution to the previous problem with one big, nasty bug. Find and fix the bug.\n",
    "\n",
    "If you get stuck, you can download http://greenteapress.com/thinkpython2/code/GoodKangaroo.py, which explains the problem and demonstrates a solution. "
   ]
  },
  {
   "cell_type": "code",
   "execution_count": 2,
   "metadata": {
    "collapsed": false,
    "solution": "Exercise 17.7"
   },
   "outputs": [],
   "source": [
    "class Kangaroo:\n",
    "    \"\"\"A Kangaroo is a marsupial.\"\"\"\n",
    "    \n",
    "    def __init__(self, name, contents=None):\n",
    "        \"\"\"\n",
    "        Initialize kangaroo\n",
    "        \"\"\"\n",
    "        \n",
    "        self.name = name\n",
    "        if contents == None:\n",
    "            contents = []\n",
    "        self.pouch_contents = contents\n",
    "\n",
    "    def __str__(self):\n",
    "\n",
    "        t = [ self.name + ' has pouch contents:' ]\n",
    "        for obj in self.pouch_contents:\n",
    "            s = '    ' + object.__str__(obj)\n",
    "            t.append(s)\n",
    "        return '\\n'.join(t)\n",
    "\n",
    "    def put_in_pouch(self, item):\n",
    "        \"\"\"Adds a new item\"\"\"\n",
    "        self.pouch_contents.append(item)\n",
    "\n",
    "\n",
    "kanga = Kangaroo('Kanga')\n",
    "roo = Kangaroo('Roo')\n",
    "kanga.put_in_pouch('swag')\n",
    "kanga.put_in_pouch('notebook')\n",
    "roo.put_in_pouch('shirts')\n",
    "kanga.put_in_pouch(roo)\n",
    "\n",
    "print(kanga)\n",
    "print(roo)"
   ]
  },
  {
   "cell_type": "code",
   "execution_count": 44,
   "metadata": {
    "collapsed": false,
    "solution": "Exercise 17.7"
   },
   "outputs": [],
   "source": [
    "class Kangaroo(object):\n",
    "    def __init__(self,name,contents=None):\n",
    "        if contents == None:\n",
    "            contents = []\n",
    "        self.pouch_contents = contents\n",
    "        self.name = name\n",
    "        \n",
    "    def put_in_pouch(self,obj=None):\n",
    "        self.pouch_contents.append(obj)\n",
    "        \n",
    "    def __str__(self):\n",
    "        stuff = ''\n",
    "        for i in self.pouch_contents:\n",
    "            if i == self.pouch_contents[-1]:\n",
    "                stuff += str(i)\n",
    "            else:\n",
    "                stuff += str(i) + ', '\n",
    "        if len(stuff) > 0:\n",
    "            return self.name + ' contents: ' + stuff \n",
    "        else:\n",
    "            return self.name\n",
    "    \n",
    "kanga = Kangaroo('kanga')\n",
    "roo = Kangaroo('roo')\n",
    "kanga.put_in_pouch(roo)\n",
    "kanga.put_in_pouch('dog')\n",
    "roo.put_in_pouch('elf')\n",
    "print(kanga)\n",
    "print(roo)"
   ]
  },
  {
   "cell_type": "code",
   "execution_count": 3,
   "metadata": {
    "collapsed": false,
    "solution": "Exercise 17.7"
   },
   "outputs": [],
   "source": [
    "\n",
    "class Kangaroo:\n",
    "    \"\"\"A Kangaroo is a marsupial.\"\"\"\n",
    "    \n",
    "    def __init__(self, name, contents=None): #Problem exists here, \n",
    "        #empty brackets let every kangaroo use same list. Instead a new\n",
    "        #list should be generated for each kangaroo object\n",
    "        \"\"\"Initialize the pouch contents.\n",
    "\n",
    "        name: string\n",
    "        contents: initial pouch contents.\n",
    "        \"\"\"\n",
    "        self.name = name\n",
    "        if contents == None:\n",
    "            contents = [] #Make a new list specific to this kangaroo\n",
    "        self.pouch_contents = contents\n",
    "\n",
    "    def __str__(self):\n",
    "        \"\"\"Return a string representaion of this Kangaroo.\n",
    "        \"\"\"\n",
    "        t = [ self.name + ' has pouch contents:' ]\n",
    "        for obj in self.pouch_contents:\n",
    "            s = '    ' + object.__str__(obj)\n",
    "            t.append(s)\n",
    "        return '\\n'.join(t)\n",
    "\n",
    "    def put_in_pouch(self, item):\n",
    "        \"\"\"Adds a new item to the pouch contents.\n",
    "\n",
    "        item: object to be added\n",
    "        \"\"\"\n",
    "        self.pouch_contents.append(item)\n",
    "\n",
    "\n",
    "kanga = Kangaroo('Kanga')\n",
    "roo = Kangaroo('Roo')\n",
    "kanga.put_in_pouch('wallet')\n",
    "kanga.put_in_pouch('car keys')\n",
    "kanga.put_in_pouch(roo)\n",
    "\n",
    "print(kanga)\n",
    "print(roo)"
   ]
  },
  {
   "cell_type": "markdown",
   "metadata": {
    "feedback_response": true,
    "solution": "Feedback"
   },
   "source": [
    " "
   ]
  }
 ],
 "metadata": {
  "anaconda-cloud": {},
  "kernelspec": {
   "display_name": "Python 2",
   "language": "python",
   "name": "python2"
  },
  "language_info": {
   "codemirror_mode": {
    "name": "ipython",
    "version": 2
   },
   "file_extension": ".py",
   "mimetype": "text/x-python",
   "name": "python",
   "nbconvert_exporter": "python",
   "pygments_lexer": "ipython2",
   "version": "2.7.10"
  }
 },
 "nbformat": 4,
 "nbformat_minor": 0
}
